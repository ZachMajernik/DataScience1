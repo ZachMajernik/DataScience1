{
 "cells": [
  {
   "cell_type": "code",
   "execution_count": 1,
   "id": "08bd956e",
   "metadata": {},
   "outputs": [],
   "source": [
    "piratesByCol = {\n",
    "    \"Name\": [\"Edward Teach\",\"Anne Bonny\",\"John Rackham\",\n",
    "             \"Cheung Po Tsai\",\"Grace O'Malley\",\"Mary Read\",\"Sayyida al Hurra\",\n",
    "             \"Zheng Yi Sao\",\"Francis Drake\",\"Jean Lafiette\"],\n",
    "    \"Years Active\": [[1716,1718],[1718,1720],[1718,1720],\n",
    "                     [1798,1810],[1564,1595],[1708,1721],\n",
    "                     [1515,1545],[1801,1810],[1563,1596],[1810,1823]],\n",
    "    \"Territory\": [\"Caribbean\",\"Caribbean\",\"Caribbean\",\"South China Sea\",\n",
    "                  \"British Isls\",\"Caribbean\",\"Mediteranian\",\n",
    "                  \"South China Sea\",\"Caribbean\",\"Gulf of Mexico\"],\n",
    "    \"Ailias\": [\"Blackbeard\",\"\",\"Calico Jack\",\"The Kid\",\"Queen of Ireland\",\"Mark\",\n",
    "               \"Hakimat Titwan\",\"Ching Shih\",\"Sir Francis Drake\",\"Terror of the Gulf\"]\n",
    "}\n",
    "\n",
    "piratesByRow = {\n",
    "    \"Name\": [\"Years Active\",\"Territory\",\"Ailias\"],\n",
    "    \"Edward Teach\":[[1716,1718],\"Caribbean\",\"Blackbeard\"],\n",
    "    \"Anne Bonny\":[[1718,1720],\"Caribbean\",\"\"],\n",
    "    \"John Rackham\":[[1718,1720],\"Caribbean\",\"Calico Jack\"],\n",
    "    \"Cheung Po Tsai\":[[1798,1810],\"South China Sea\",\"The Kid\"],\n",
    "    \"Grace O'Malley\":[[1564,1595],\"British Isls\",\"Queen of Ireland\"],\n",
    "    \"Mary Read\":[[1708,1721],\"Caribbean\",\"Mark\"],\n",
    "    \"Sayyida al Hurra\":[[1515,1545],\"Mediteranian\",\"Hakimat Titwan\"],\n",
    "    \"Zheng Yi Sao\":[[1801,1810],\"South China Sea\",\"Ching Shih\"],\n",
    "    \"Francis Drake\":[[1563,1596],\"Caribbean\",\"Sir Francis Drake\"],\n",
    "    \"Jean Lafiette\":[[1810,1823],\"Gulf of Mexico\",\"Terror of the Gulf\"]\n",
    "}"
   ]
  },
  {
   "cell_type": "code",
   "execution_count": 2,
   "id": "f3034f09",
   "metadata": {},
   "outputs": [
    {
     "name": "stdout",
     "output_type": "stream",
     "text": [
      "4 pirates sailed the Caribbean in the 18th century\n"
     ]
    }
   ],
   "source": [
    "#challenge 2.1 by column\n",
    "\n",
    "col_PiratesIn18th = 0\n",
    "currentPirate = 0\n",
    "\n",
    "for list in piratesByCol[\"Years Active\"]:\n",
    "    if piratesByCol[\"Territory\"][currentPirate] == \"Caribbean\":\n",
    "        if list[0] >= 1700 and list[0] <= 1799:\n",
    "            col_PiratesIn18th += 1\n",
    "        elif list[1] >= 1700 and list[1] <= 1799:\n",
    "            col_PiratesIn18th += 1    \n",
    "    currentPirate += 1\n",
    "        \n",
    "print(str(col_PiratesIn18th) + \" pirates sailed the Caribbean in the 18th century\")"
   ]
  },
  {
   "cell_type": "code",
   "execution_count": 3,
   "id": "ac6fa529",
   "metadata": {},
   "outputs": [
    {
     "name": "stdout",
     "output_type": "stream",
     "text": [
      "4 pirates sailed the Caribbean in the 18th century\n"
     ]
    }
   ],
   "source": [
    "#challenge 2.1 by row\n",
    "\n",
    "row_PiratesIn18th = 0\n",
    "\n",
    "for pirate in piratesByRow:\n",
    "    if pirate != \"Name\" and piratesByRow[pirate][1] == \"Caribbean\":\n",
    "        if piratesByRow[pirate][0][0] >= 1700 and piratesByRow[pirate][0][0] <= 1799:\n",
    "            row_PiratesIn18th += 1\n",
    "        elif piratesByRow[pirate][0][1] >= 1700 and piratesByRow[pirate][0][1] <= 1799:\n",
    "            row_PiratesIn18th += 1\n",
    "        \n",
    "print(str(row_PiratesIn18th) + \" pirates sailed the Caribbean in the 18th century\")"
   ]
  },
  {
   "cell_type": "code",
   "execution_count": 4,
   "id": "3539775a",
   "metadata": {},
   "outputs": [
    {
     "name": "stdout",
     "output_type": "stream",
     "text": [
      "Francis Drake had the longest career at 33 years\n"
     ]
    }
   ],
   "source": [
    "#challenge 2.2 by column\n",
    "\n",
    "col_LongestCareerPirate = \"\"\n",
    "col_LongestCareer = 0\n",
    "\n",
    "currentIndex = 0\n",
    "\n",
    "for list in piratesByCol[\"Years Active\"]:\n",
    "    careerLength = list[1] - list[0]\n",
    "    if careerLength > col_LongestCareer:\n",
    "        col_LongestCareer = careerLength\n",
    "        col_LongestCareerPirate = piratesByCol[\"Name\"][currentIndex]\n",
    "    currentIndex += 1\n",
    "        \n",
    "print(col_LongestCareerPirate + \" had the longest career at \" + str(col_LongestCareer) + \" years\")"
   ]
  },
  {
   "cell_type": "code",
   "execution_count": 5,
   "id": "f5b831dc",
   "metadata": {},
   "outputs": [
    {
     "name": "stdout",
     "output_type": "stream",
     "text": [
      "Francis Drake had the longest career at 33 years\n"
     ]
    }
   ],
   "source": [
    "#challenge 2.2 by row\n",
    "\n",
    "row_LongestCareerPirate = \"\"\n",
    "row_LongestCareer = 0\n",
    "\n",
    "for pirate in piratesByRow:\n",
    "    if pirate != \"Name\":\n",
    "        careerLength = piratesByRow[pirate][0][1] - piratesByRow[pirate][0][0]\n",
    "    if careerLength > row_LongestCareer:\n",
    "        row_LongestCareer = careerLength\n",
    "        row_LongestCareerPirate = pirate\n",
    "\n",
    "print(row_LongestCareerPirate + \" had the longest career at \" + str(row_LongestCareer) + \" years\")"
   ]
  },
  {
   "cell_type": "code",
   "execution_count": 6,
   "id": "90e1973e",
   "metadata": {},
   "outputs": [
    {
     "name": "stdout",
     "output_type": "stream",
     "text": [
      "Average career length was 14.7 years\n"
     ]
    }
   ],
   "source": [
    "#challenge 2.3 by col\n",
    "\n",
    "col_CareerLengthTotal = 0\n",
    "col_careerLengthAvg = 0\n",
    "\n",
    "for list in piratesByCol[\"Years Active\"]:\n",
    "    careerLength = list[1] - list[0]\n",
    "    col_CareerLengthTotal += careerLength\n",
    "\n",
    "col_CareerLengthAvg = col_CareerLengthTotal/10\n",
    "\n",
    "print(\"Average career length was \" + str(col_CareerLengthAvg) + \" years\")"
   ]
  },
  {
   "cell_type": "code",
   "execution_count": 7,
   "id": "401988a2",
   "metadata": {},
   "outputs": [
    {
     "name": "stdout",
     "output_type": "stream",
     "text": [
      "Average career length was 14.7 years\n"
     ]
    }
   ],
   "source": [
    "#challenge 2.3 by row\n",
    "\n",
    "row_CareerLengthTotal = 0\n",
    "row_careerLengthAvg = 0\n",
    "\n",
    "for pirate in piratesByRow:\n",
    "    if pirate != \"Name\":\n",
    "        careerLength = piratesByRow[pirate][0][1] - piratesByRow[pirate][0][0]\n",
    "        row_CareerLengthTotal += careerLength\n",
    "        \n",
    "row_CareerLengthAvg = row_CareerLengthTotal/10\n",
    "\n",
    "print(\"Average career length was \" + str(row_CareerLengthAvg) + \" years\")"
   ]
  },
  {
   "cell_type": "code",
   "execution_count": 8,
   "id": "a0337f1b",
   "metadata": {},
   "outputs": [
    {
     "data": {
      "text/plain": [
       "{'Name': ['Blackbeard',\n",
       "  'Anne Bonny',\n",
       "  'Calico Jack',\n",
       "  'Cheung Po Tsai',\n",
       "  \"Grace O'Malley\",\n",
       "  'Mary Read',\n",
       "  'Sayyida al Hurra',\n",
       "  'Ching Shih',\n",
       "  'Sir Francis Drake',\n",
       "  'Jean Lafitte'],\n",
       " 'Ailias': ['Blackbeard',\n",
       "  '',\n",
       "  'Calico Jack',\n",
       "  'The Kid',\n",
       "  'Queen of Ireland',\n",
       "  'Mark',\n",
       "  'Hakimat Titwan',\n",
       "  'Ching Shih',\n",
       "  'Sir Francis Drake',\n",
       "  'Terror of the Gulf'],\n",
       " 'Sex': ['M', 'F', 'M', 'M', 'F', 'F', 'F', 'F', 'M', 'M'],\n",
       " 'Height': [6.4, 5.6, 5.6, 5.3, 5.0, 5.1, 'NOT RECORDED', 5.3, 5.5, 6.2],\n",
       " 'Career': [[1716, 1718],\n",
       "  [1718, 1720],\n",
       "  [1718, 1720],\n",
       "  [1798, 1810],\n",
       "  [1564, 1595],\n",
       "  [1708, 1721],\n",
       "  [1515, 1545],\n",
       "  [1801, 1810],\n",
       "  [1563, 1596],\n",
       "  [1810, 1823]],\n",
       " 'Age At Death': [40, 24, 37, 39, 73, 36, 75, 69, 56, 46],\n",
       " 'Territory': ['Caribbean',\n",
       "  'Caribbean',\n",
       "  'Caribbean',\n",
       "  'South China Sea',\n",
       "  'British Isls',\n",
       "  'Caribbean',\n",
       "  'Mediteranian',\n",
       "  'South China Sea',\n",
       "  'Caribbean',\n",
       "  'Gulf of Mexico'],\n",
       " 'Skull & Crossbones': [False,\n",
       "  True,\n",
       "  True,\n",
       "  False,\n",
       "  False,\n",
       "  True,\n",
       "  False,\n",
       "  False,\n",
       "  False,\n",
       "  False]}"
      ]
     },
     "execution_count": 8,
     "metadata": {},
     "output_type": "execute_result"
    }
   ],
   "source": [
    "#challenge 3: combine this dictionary with the one from last class\n",
    "\n",
    "#dictionary from last class\n",
    "pirates = {\n",
    "    \"Name\": [\"Blackbeard\",\"Anne Bonny\",\"Calico Jack\",\"Cheung Po Tsai\",\"Grace O'Malley\",\"Mary Read\",\n",
    "             \"Sayyida al Hurra\",\"Ching Shih\",\"Sir Francis Drake\",\"Jean Lafitte\"],\n",
    "    \"Sex\": [\"M\", \"F\", \"M\", \"M\", \"F\", \"F\", \"F\", \"F\", \"M\", \"M\"],\n",
    "    \"AgeAtDeath\": [40, 24, 37, 39, 73, 36, 75, 69, 56, 46],\n",
    "    \"Height\": [6.4, 5.6, 5.6, 5.3, 5.0, 5.1, \"NOT RECORDED\", 5.3, 5.5, 6.2],\n",
    "    \"Skull&Crossbones\": [False, True, True, False, False, True, False, False, False, False]\n",
    "}\n",
    "\n",
    "name = piratesByCol[\"Name\"]\n",
    "ailias = piratesByCol[\"Ailias\"]\n",
    "sex = pirates[\"Sex\"]\n",
    "height = pirates[\"Height\"]\n",
    "career = piratesByCol[\"Years Active\"]\n",
    "ageAtDeath = pirates[\"AgeAtDeath\"]\n",
    "territory = piratesByCol[\"Territory\"]\n",
    "skullAndCrossbones = pirates[\"Skull&Crossbones\"]\n",
    "\n",
    "combinedDict = {\n",
    "    \"Name\": name,\n",
    "    \"Ailias\": ailias,\n",
    "    \"Sex\": sex,\n",
    "    \"Height\": height,\n",
    "    \"Career\": career,\n",
    "    \"Age At Death\": ageAtDeath,\n",
    "    \"Territory\": territory,\n",
    "    \"Skull & Crossbones\": skullAndCrossbones\n",
    "}\n",
    "\n",
    "combinedDict\n"
   ]
  },
  {
   "cell_type": "code",
   "execution_count": null,
   "id": "5ba1bd11",
   "metadata": {},
   "outputs": [],
   "source": []
  }
 ],
 "metadata": {
  "kernelspec": {
   "display_name": "Python 3 (ipykernel)",
   "language": "python",
   "name": "python3"
  },
  "language_info": {
   "codemirror_mode": {
    "name": "ipython",
    "version": 3
   },
   "file_extension": ".py",
   "mimetype": "text/x-python",
   "name": "python",
   "nbconvert_exporter": "python",
   "pygments_lexer": "ipython3",
   "version": "3.9.13"
  }
 },
 "nbformat": 4,
 "nbformat_minor": 5
}
