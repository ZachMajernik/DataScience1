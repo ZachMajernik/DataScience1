{
 "cells": [
  {
   "cell_type": "code",
   "execution_count": 1,
   "id": "94eabc83",
   "metadata": {},
   "outputs": [],
   "source": [
    "#imports pandas with the variable name \"p\"\n",
    "import pandas as p"
   ]
  },
  {
   "cell_type": "code",
   "execution_count": 2,
   "id": "0f7c3b26",
   "metadata": {},
   "outputs": [],
   "source": [
    "#imports file as a dataframe named \"df\"\n",
    "#file MUST be in same folder as jupiternotebook file in order to call name\n",
    "df = p.read_csv('pirates.csv')"
   ]
  },
  {
   "cell_type": "code",
   "execution_count": 3,
   "id": "c2c4bbec",
   "metadata": {},
   "outputs": [
    {
     "data": {
      "text/html": [
       "<div>\n",
       "<style scoped>\n",
       "    .dataframe tbody tr th:only-of-type {\n",
       "        vertical-align: middle;\n",
       "    }\n",
       "\n",
       "    .dataframe tbody tr th {\n",
       "        vertical-align: top;\n",
       "    }\n",
       "\n",
       "    .dataframe thead th {\n",
       "        text-align: right;\n",
       "    }\n",
       "</style>\n",
       "<table border=\"1\" class=\"dataframe\">\n",
       "  <thead>\n",
       "    <tr style=\"text-align: right;\">\n",
       "      <th></th>\n",
       "      <th>id</th>\n",
       "      <th>sex</th>\n",
       "      <th>age</th>\n",
       "      <th>height</th>\n",
       "      <th>weight</th>\n",
       "      <th>headband</th>\n",
       "      <th>college</th>\n",
       "      <th>tattoos</th>\n",
       "      <th>tchests</th>\n",
       "      <th>parrots</th>\n",
       "      <th>favorite.pirate</th>\n",
       "      <th>sword.type</th>\n",
       "      <th>eyepatch</th>\n",
       "      <th>sword.time</th>\n",
       "      <th>beard.length</th>\n",
       "      <th>fav.pixar</th>\n",
       "      <th>grogg</th>\n",
       "    </tr>\n",
       "  </thead>\n",
       "  <tbody>\n",
       "    <tr>\n",
       "      <th>0</th>\n",
       "      <td>1</td>\n",
       "      <td>male</td>\n",
       "      <td>28.0</td>\n",
       "      <td>173.11</td>\n",
       "      <td>70.5</td>\n",
       "      <td>yes</td>\n",
       "      <td>JSSFP</td>\n",
       "      <td>9</td>\n",
       "      <td>0</td>\n",
       "      <td>0</td>\n",
       "      <td>Jack Sparrow</td>\n",
       "      <td>cutlass</td>\n",
       "      <td>1</td>\n",
       "      <td>0.58</td>\n",
       "      <td>16</td>\n",
       "      <td>Monsters, Inc.</td>\n",
       "      <td>11</td>\n",
       "    </tr>\n",
       "    <tr>\n",
       "      <th>1</th>\n",
       "      <td>2</td>\n",
       "      <td>male</td>\n",
       "      <td>31.0</td>\n",
       "      <td>209.25</td>\n",
       "      <td>105.6</td>\n",
       "      <td>yes</td>\n",
       "      <td>JSSFP</td>\n",
       "      <td>9</td>\n",
       "      <td>11</td>\n",
       "      <td>0</td>\n",
       "      <td>Jack Sparrow</td>\n",
       "      <td>cutlass</td>\n",
       "      <td>0</td>\n",
       "      <td>1.11</td>\n",
       "      <td>21</td>\n",
       "      <td>WALL-E</td>\n",
       "      <td>9</td>\n",
       "    </tr>\n",
       "    <tr>\n",
       "      <th>2</th>\n",
       "      <td>3</td>\n",
       "      <td>male</td>\n",
       "      <td>26.0</td>\n",
       "      <td>169.95</td>\n",
       "      <td>77.1</td>\n",
       "      <td>yes</td>\n",
       "      <td>CCCC</td>\n",
       "      <td>10</td>\n",
       "      <td>10</td>\n",
       "      <td>1</td>\n",
       "      <td>Jack Sparrow</td>\n",
       "      <td>cutlass</td>\n",
       "      <td>1</td>\n",
       "      <td>1.44</td>\n",
       "      <td>19</td>\n",
       "      <td>Inside Out</td>\n",
       "      <td>7</td>\n",
       "    </tr>\n",
       "    <tr>\n",
       "      <th>3</th>\n",
       "      <td>4</td>\n",
       "      <td>female</td>\n",
       "      <td>31.0</td>\n",
       "      <td>144.29</td>\n",
       "      <td>58.5</td>\n",
       "      <td>no</td>\n",
       "      <td>JSSFP</td>\n",
       "      <td>2</td>\n",
       "      <td>0</td>\n",
       "      <td>2</td>\n",
       "      <td>Jack Sparrow</td>\n",
       "      <td>scimitar</td>\n",
       "      <td>1</td>\n",
       "      <td>36.11</td>\n",
       "      <td>2</td>\n",
       "      <td>Inside Out</td>\n",
       "      <td>9</td>\n",
       "    </tr>\n",
       "    <tr>\n",
       "      <th>4</th>\n",
       "      <td>5</td>\n",
       "      <td>female</td>\n",
       "      <td>41.0</td>\n",
       "      <td>157.85</td>\n",
       "      <td>58.4</td>\n",
       "      <td>yes</td>\n",
       "      <td>JSSFP</td>\n",
       "      <td>9</td>\n",
       "      <td>6</td>\n",
       "      <td>4</td>\n",
       "      <td>Hook</td>\n",
       "      <td>cutlass</td>\n",
       "      <td>1</td>\n",
       "      <td>0.11</td>\n",
       "      <td>0</td>\n",
       "      <td>Inside Out</td>\n",
       "      <td>14</td>\n",
       "    </tr>\n",
       "  </tbody>\n",
       "</table>\n",
       "</div>"
      ],
      "text/plain": [
       "   id     sex   age  height  weight headband college  tattoos  tchests  \\\n",
       "0   1    male  28.0  173.11    70.5      yes   JSSFP        9        0   \n",
       "1   2    male  31.0  209.25   105.6      yes   JSSFP        9       11   \n",
       "2   3    male  26.0  169.95    77.1      yes    CCCC       10       10   \n",
       "3   4  female  31.0  144.29    58.5       no   JSSFP        2        0   \n",
       "4   5  female  41.0  157.85    58.4      yes   JSSFP        9        6   \n",
       "\n",
       "  parrots favorite.pirate sword.type  eyepatch  sword.time  beard.length  \\\n",
       "0       0    Jack Sparrow    cutlass         1        0.58            16   \n",
       "1       0    Jack Sparrow    cutlass         0        1.11            21   \n",
       "2       1    Jack Sparrow    cutlass         1        1.44            19   \n",
       "3       2    Jack Sparrow   scimitar         1       36.11             2   \n",
       "4       4            Hook    cutlass         1        0.11             0   \n",
       "\n",
       "        fav.pixar  grogg  \n",
       "0  Monsters, Inc.     11  \n",
       "1          WALL-E      9  \n",
       "2      Inside Out      7  \n",
       "3      Inside Out      9  \n",
       "4      Inside Out     14  "
      ]
     },
     "execution_count": 3,
     "metadata": {},
     "output_type": "execute_result"
    }
   ],
   "source": [
    "# head(int) displays the first howevermany rows\n",
    "# tail(int) displays the last howevermany rows\n",
    "df.head(5)"
   ]
  },
  {
   "cell_type": "code",
   "execution_count": 4,
   "id": "d8fb2f8b",
   "metadata": {},
   "outputs": [
    {
     "name": "stdout",
     "output_type": "stream",
     "text": [
      "<class 'pandas.core.frame.DataFrame'>\n",
      "RangeIndex: 1000 entries, 0 to 999\n",
      "Data columns (total 17 columns):\n",
      " #   Column           Non-Null Count  Dtype  \n",
      "---  ------           --------------  -----  \n",
      " 0   id               1000 non-null   int64  \n",
      " 1   sex              1000 non-null   object \n",
      " 2   age              999 non-null    float64\n",
      " 3   height           1000 non-null   float64\n",
      " 4   weight           1000 non-null   float64\n",
      " 5   headband         999 non-null    object \n",
      " 6   college          1000 non-null   object \n",
      " 7   tattoos          1000 non-null   int64  \n",
      " 8   tchests          1000 non-null   int64  \n",
      " 9   parrots          1000 non-null   object \n",
      " 10  favorite.pirate  999 non-null    object \n",
      " 11  sword.type       1000 non-null   object \n",
      " 12  eyepatch         1000 non-null   int64  \n",
      " 13  sword.time       999 non-null    float64\n",
      " 14  beard.length     1000 non-null   int64  \n",
      " 15  fav.pixar        1000 non-null   object \n",
      " 16  grogg            1000 non-null   int64  \n",
      "dtypes: float64(4), int64(6), object(7)\n",
      "memory usage: 132.9+ KB\n"
     ]
    }
   ],
   "source": [
    "df.info()"
   ]
  },
  {
   "cell_type": "code",
   "execution_count": 5,
   "id": "9d7e8e49",
   "metadata": {
    "scrolled": true
   },
   "outputs": [
    {
     "data": {
      "text/plain": [
       "id                 1000\n",
       "sex                1000\n",
       "age                 999\n",
       "height             1000\n",
       "weight             1000\n",
       "headband            999\n",
       "college            1000\n",
       "tattoos            1000\n",
       "tchests            1000\n",
       "parrots            1000\n",
       "favorite.pirate     999\n",
       "sword.type         1000\n",
       "eyepatch           1000\n",
       "sword.time          999\n",
       "beard.length       1000\n",
       "fav.pixar          1000\n",
       "grogg              1000\n",
       "dtype: int64"
      ]
     },
     "execution_count": 5,
     "metadata": {},
     "output_type": "execute_result"
    }
   ],
   "source": [
    "nonNullCount = df.notna().sum()\n",
    "\n",
    "nonNullCount"
   ]
  },
  {
   "cell_type": "code",
   "execution_count": 6,
   "id": "292098ab",
   "metadata": {
    "scrolled": true
   },
   "outputs": [
    {
     "name": "stdout",
     "output_type": "stream",
     "text": [
      "missing data at age, row 34\n",
      "missing data at headband, row 1000\n",
      "missing data at favorite.pirate, row 635\n",
      "missing data at sword.time, row 137\n"
     ]
    }
   ],
   "source": [
    "indexWithNulls = []\n",
    "missingValues = []\n",
    "\n",
    "for col in df.columns:\n",
    "    for row in range(len(df[\"id\"])):\n",
    "        if p.isna(df.loc[row, col]):\n",
    "            indexWithNulls.append(row)\n",
    "            missingValues.append([row,col])\n",
    "            print(\"missing data at \" + str(col) + \", row \" + str(row+1))"
   ]
  },
  {
   "cell_type": "code",
   "execution_count": 24,
   "id": "2c01eed0",
   "metadata": {
    "scrolled": true
   },
   "outputs": [
    {
     "name": "stdout",
     "output_type": "stream",
     "text": [
      "<class 'pandas.core.frame.DataFrame'>\n",
      "RangeIndex: 996 entries, 0 to 995\n",
      "Data columns (total 17 columns):\n",
      " #   Column           Non-Null Count  Dtype  \n",
      "---  ------           --------------  -----  \n",
      " 0   id               996 non-null    int64  \n",
      " 1   sex              996 non-null    object \n",
      " 2   age              996 non-null    float64\n",
      " 3   height           996 non-null    float64\n",
      " 4   weight           996 non-null    float64\n",
      " 5   headband         996 non-null    object \n",
      " 6   college          996 non-null    object \n",
      " 7   tattoos          996 non-null    int64  \n",
      " 8   tchests          996 non-null    int64  \n",
      " 9   parrots          996 non-null    object \n",
      " 10  favorite.pirate  996 non-null    object \n",
      " 11  sword.type       996 non-null    object \n",
      " 12  eyepatch         996 non-null    int64  \n",
      " 13  sword.time       996 non-null    float64\n",
      " 14  beard.length     996 non-null    int64  \n",
      " 15  fav.pixar        996 non-null    object \n",
      " 16  grogg            996 non-null    int64  \n",
      "dtypes: float64(4), int64(6), object(7)\n",
      "memory usage: 132.4+ KB\n"
     ]
    }
   ],
   "source": [
    "#deleted rows with missing information\n",
    "\n",
    "df_Modified_0 = df\n",
    "\n",
    "for i in range(len(indexWithNulls)):\n",
    "    df_Modified_0 = df_Modified_0.drop(indexWithNulls[i])\n",
    "\n",
    "df_Modified_0.reset_index(drop=True, inplace=True)\n",
    "\n",
    "df_Modified_0.info()"
   ]
  },
  {
   "cell_type": "code",
   "execution_count": 22,
   "id": "8536d753",
   "metadata": {},
   "outputs": [
    {
     "name": "stdout",
     "output_type": "stream",
     "text": [
      "27.357\n",
      "yes\n",
      "Jack Sparrow\n",
      "2.543210000000002\n"
     ]
    }
   ],
   "source": [
    "#found mode or average of row with missing information and added it to missing spot\n",
    "\n",
    "df_Modified_1 = df\n",
    "\n",
    "for i in range(len(missingValues)):\n",
    "    if isinstance(df[missingValues[i][1]][0], float):\n",
    "        df_Modified_1.at[missingValues[i][0], missingValues[i][1]] = df[missingValues[i][1]].mean()\n",
    "    else:\n",
    "        df_Modified_1.at[missingValues[i][0], missingValues[i][1]] = df[missingValues[i][1]].mode()[0]\n",
    "        \n",
    "\n",
    "print(df_Modified_1.loc[missingValues[0][0], missingValues[0][1]])\n",
    "print(df_Modified_1.loc[missingValues[1][0], missingValues[1][1]])\n",
    "print(df_Modified_1.loc[missingValues[2][0], missingValues[2][1]])\n",
    "print(df_Modified_1.loc[missingValues[3][0], missingValues[3][1]])"
   ]
  },
  {
   "cell_type": "code",
   "execution_count": null,
   "id": "f0eab013",
   "metadata": {},
   "outputs": [],
   "source": []
  }
 ],
 "metadata": {
  "kernelspec": {
   "display_name": "Python 3 (ipykernel)",
   "language": "python",
   "name": "python3"
  },
  "language_info": {
   "codemirror_mode": {
    "name": "ipython",
    "version": 3
   },
   "file_extension": ".py",
   "mimetype": "text/x-python",
   "name": "python",
   "nbconvert_exporter": "python",
   "pygments_lexer": "ipython3",
   "version": "3.9.13"
  }
 },
 "nbformat": 4,
 "nbformat_minor": 5
}
