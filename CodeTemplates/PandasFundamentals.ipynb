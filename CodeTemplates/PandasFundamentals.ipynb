{
 "cells": [
  {
   "cell_type": "code",
   "execution_count": 1,
   "id": "94eabc83",
   "metadata": {},
   "outputs": [],
   "source": [
    "#imports pandas with the variable name \"p\"\n",
    "import pandas as p\n",
    "\n",
    "#allows use of random number generators\n",
    "import random"
   ]
  },
  {
   "cell_type": "code",
   "execution_count": 2,
   "id": "0f7c3b26",
   "metadata": {},
   "outputs": [],
   "source": [
    "#imports file as a dataframe named \"df\"\n",
    "#file MUST be in same folder as jupiternotebook file in order to call name\n",
    "df = p.read_csv('pirates.csv')"
   ]
  },
  {
   "cell_type": "code",
   "execution_count": 52,
   "id": "c2c4bbec",
   "metadata": {},
   "outputs": [
    {
     "data": {
      "text/html": [
       "<div>\n",
       "<style scoped>\n",
       "    .dataframe tbody tr th:only-of-type {\n",
       "        vertical-align: middle;\n",
       "    }\n",
       "\n",
       "    .dataframe tbody tr th {\n",
       "        vertical-align: top;\n",
       "    }\n",
       "\n",
       "    .dataframe thead th {\n",
       "        text-align: right;\n",
       "    }\n",
       "</style>\n",
       "<table border=\"1\" class=\"dataframe\">\n",
       "  <thead>\n",
       "    <tr style=\"text-align: right;\">\n",
       "      <th></th>\n",
       "      <th>id</th>\n",
       "      <th>sex</th>\n",
       "      <th>age</th>\n",
       "      <th>height</th>\n",
       "      <th>weight</th>\n",
       "      <th>headband</th>\n",
       "      <th>college</th>\n",
       "      <th>tattoos</th>\n",
       "      <th>tchests</th>\n",
       "      <th>parrots</th>\n",
       "      <th>favorite.pirate</th>\n",
       "      <th>sword.type</th>\n",
       "      <th>eyepatch</th>\n",
       "      <th>sword.time</th>\n",
       "      <th>beard.length</th>\n",
       "      <th>fav.pixar</th>\n",
       "      <th>grogg</th>\n",
       "    </tr>\n",
       "  </thead>\n",
       "  <tbody>\n",
       "    <tr>\n",
       "      <th>0</th>\n",
       "      <td>1</td>\n",
       "      <td>male</td>\n",
       "      <td>28.0</td>\n",
       "      <td>173.11</td>\n",
       "      <td>70.5</td>\n",
       "      <td>yes</td>\n",
       "      <td>JSSFP</td>\n",
       "      <td>9</td>\n",
       "      <td>0</td>\n",
       "      <td>0</td>\n",
       "      <td>Jack Sparrow</td>\n",
       "      <td>cutlass</td>\n",
       "      <td>1</td>\n",
       "      <td>0.58</td>\n",
       "      <td>16</td>\n",
       "      <td>Monsters, Inc.</td>\n",
       "      <td>11</td>\n",
       "    </tr>\n",
       "    <tr>\n",
       "      <th>1</th>\n",
       "      <td>2</td>\n",
       "      <td>male</td>\n",
       "      <td>31.0</td>\n",
       "      <td>209.25</td>\n",
       "      <td>105.6</td>\n",
       "      <td>yes</td>\n",
       "      <td>JSSFP</td>\n",
       "      <td>9</td>\n",
       "      <td>11</td>\n",
       "      <td>0</td>\n",
       "      <td>Jack Sparrow</td>\n",
       "      <td>cutlass</td>\n",
       "      <td>0</td>\n",
       "      <td>1.11</td>\n",
       "      <td>21</td>\n",
       "      <td>WALL-E</td>\n",
       "      <td>9</td>\n",
       "    </tr>\n",
       "    <tr>\n",
       "      <th>2</th>\n",
       "      <td>3</td>\n",
       "      <td>male</td>\n",
       "      <td>26.0</td>\n",
       "      <td>169.95</td>\n",
       "      <td>77.1</td>\n",
       "      <td>yes</td>\n",
       "      <td>CCCC</td>\n",
       "      <td>10</td>\n",
       "      <td>10</td>\n",
       "      <td>1</td>\n",
       "      <td>Jack Sparrow</td>\n",
       "      <td>cutlass</td>\n",
       "      <td>1</td>\n",
       "      <td>1.44</td>\n",
       "      <td>19</td>\n",
       "      <td>Inside Out</td>\n",
       "      <td>7</td>\n",
       "    </tr>\n",
       "    <tr>\n",
       "      <th>3</th>\n",
       "      <td>4</td>\n",
       "      <td>female</td>\n",
       "      <td>31.0</td>\n",
       "      <td>144.29</td>\n",
       "      <td>58.5</td>\n",
       "      <td>no</td>\n",
       "      <td>JSSFP</td>\n",
       "      <td>2</td>\n",
       "      <td>0</td>\n",
       "      <td>2</td>\n",
       "      <td>Jack Sparrow</td>\n",
       "      <td>scimitar</td>\n",
       "      <td>1</td>\n",
       "      <td>36.11</td>\n",
       "      <td>2</td>\n",
       "      <td>Inside Out</td>\n",
       "      <td>9</td>\n",
       "    </tr>\n",
       "    <tr>\n",
       "      <th>4</th>\n",
       "      <td>5</td>\n",
       "      <td>female</td>\n",
       "      <td>41.0</td>\n",
       "      <td>157.85</td>\n",
       "      <td>58.4</td>\n",
       "      <td>yes</td>\n",
       "      <td>JSSFP</td>\n",
       "      <td>9</td>\n",
       "      <td>6</td>\n",
       "      <td>4</td>\n",
       "      <td>Hook</td>\n",
       "      <td>cutlass</td>\n",
       "      <td>1</td>\n",
       "      <td>0.11</td>\n",
       "      <td>0</td>\n",
       "      <td>Inside Out</td>\n",
       "      <td>14</td>\n",
       "    </tr>\n",
       "  </tbody>\n",
       "</table>\n",
       "</div>"
      ],
      "text/plain": [
       "   id     sex   age  height  weight headband college  tattoos  tchests  \\\n",
       "0   1    male  28.0  173.11    70.5      yes   JSSFP        9        0   \n",
       "1   2    male  31.0  209.25   105.6      yes   JSSFP        9       11   \n",
       "2   3    male  26.0  169.95    77.1      yes    CCCC       10       10   \n",
       "3   4  female  31.0  144.29    58.5       no   JSSFP        2        0   \n",
       "4   5  female  41.0  157.85    58.4      yes   JSSFP        9        6   \n",
       "\n",
       "  parrots favorite.pirate sword.type  eyepatch  sword.time  beard.length  \\\n",
       "0       0    Jack Sparrow    cutlass         1        0.58            16   \n",
       "1       0    Jack Sparrow    cutlass         0        1.11            21   \n",
       "2       1    Jack Sparrow    cutlass         1        1.44            19   \n",
       "3       2    Jack Sparrow   scimitar         1       36.11             2   \n",
       "4       4            Hook    cutlass         1        0.11             0   \n",
       "\n",
       "        fav.pixar  grogg  \n",
       "0  Monsters, Inc.     11  \n",
       "1          WALL-E      9  \n",
       "2      Inside Out      7  \n",
       "3      Inside Out      9  \n",
       "4      Inside Out     14  "
      ]
     },
     "execution_count": 52,
     "metadata": {},
     "output_type": "execute_result"
    }
   ],
   "source": [
    "# head(int) displays the first howevermany rows\n",
    "# tail(int) displays the last howevermany rows\n",
    "df.head(5)"
   ]
  },
  {
   "cell_type": "code",
   "execution_count": 4,
   "id": "d8fb2f8b",
   "metadata": {},
   "outputs": [
    {
     "name": "stdout",
     "output_type": "stream",
     "text": [
      "<class 'pandas.core.frame.DataFrame'>\n",
      "RangeIndex: 1000 entries, 0 to 999\n",
      "Data columns (total 17 columns):\n",
      " #   Column           Non-Null Count  Dtype  \n",
      "---  ------           --------------  -----  \n",
      " 0   id               1000 non-null   int64  \n",
      " 1   sex              1000 non-null   object \n",
      " 2   age              999 non-null    float64\n",
      " 3   height           1000 non-null   float64\n",
      " 4   weight           1000 non-null   float64\n",
      " 5   headband         999 non-null    object \n",
      " 6   college          1000 non-null   object \n",
      " 7   tattoos          1000 non-null   int64  \n",
      " 8   tchests          1000 non-null   int64  \n",
      " 9   parrots          1000 non-null   object \n",
      " 10  favorite.pirate  999 non-null    object \n",
      " 11  sword.type       1000 non-null   object \n",
      " 12  eyepatch         1000 non-null   int64  \n",
      " 13  sword.time       999 non-null    float64\n",
      " 14  beard.length     1000 non-null   int64  \n",
      " 15  fav.pixar        1000 non-null   object \n",
      " 16  grogg            1000 non-null   int64  \n",
      "dtypes: float64(4), int64(6), object(7)\n",
      "memory usage: 132.9+ KB\n"
     ]
    }
   ],
   "source": [
    "df.info()"
   ]
  },
  {
   "cell_type": "code",
   "execution_count": 5,
   "id": "9d7e8e49",
   "metadata": {
    "scrolled": true
   },
   "outputs": [
    {
     "data": {
      "text/plain": [
       "id                 1000\n",
       "sex                1000\n",
       "age                 999\n",
       "height             1000\n",
       "weight             1000\n",
       "headband            999\n",
       "college            1000\n",
       "tattoos            1000\n",
       "tchests            1000\n",
       "parrots            1000\n",
       "favorite.pirate     999\n",
       "sword.type         1000\n",
       "eyepatch           1000\n",
       "sword.time          999\n",
       "beard.length       1000\n",
       "fav.pixar          1000\n",
       "grogg              1000\n",
       "dtype: int64"
      ]
     },
     "execution_count": 5,
     "metadata": {},
     "output_type": "execute_result"
    }
   ],
   "source": [
    "nonNullCount = df.notna().sum()\n",
    "\n",
    "nonNullCount"
   ]
  },
  {
   "cell_type": "code",
   "execution_count": 6,
   "id": "292098ab",
   "metadata": {
    "scrolled": true
   },
   "outputs": [
    {
     "name": "stdout",
     "output_type": "stream",
     "text": [
      "missing data at age, index 33\n",
      "missing data at headband, index 999\n",
      "missing data at favorite.pirate, index 634\n",
      "missing data at sword.time, index 136\n"
     ]
    }
   ],
   "source": [
    "missingValues = []\n",
    "\n",
    "for col in df.columns:\n",
    "    for row in range(len(df[\"id\"])):\n",
    "        if p.isna(df.loc[row, col]):\n",
    "            missingValues.append([row,col])\n",
    "            print(\"missing data at \" + str(col) + \", index \" + str(row))"
   ]
  },
  {
   "cell_type": "code",
   "execution_count": 7,
   "id": "2c01eed0",
   "metadata": {
    "scrolled": true
   },
   "outputs": [
    {
     "name": "stdout",
     "output_type": "stream",
     "text": [
      "<class 'pandas.core.frame.DataFrame'>\n",
      "RangeIndex: 996 entries, 0 to 995\n",
      "Data columns (total 17 columns):\n",
      " #   Column           Non-Null Count  Dtype  \n",
      "---  ------           --------------  -----  \n",
      " 0   id               996 non-null    int64  \n",
      " 1   sex              996 non-null    object \n",
      " 2   age              996 non-null    float64\n",
      " 3   height           996 non-null    float64\n",
      " 4   weight           996 non-null    float64\n",
      " 5   headband         996 non-null    object \n",
      " 6   college          996 non-null    object \n",
      " 7   tattoos          996 non-null    int64  \n",
      " 8   tchests          996 non-null    int64  \n",
      " 9   parrots          996 non-null    object \n",
      " 10  favorite.pirate  996 non-null    object \n",
      " 11  sword.type       996 non-null    object \n",
      " 12  eyepatch         996 non-null    int64  \n",
      " 13  sword.time       996 non-null    float64\n",
      " 14  beard.length     996 non-null    int64  \n",
      " 15  fav.pixar        996 non-null    object \n",
      " 16  grogg            996 non-null    int64  \n",
      "dtypes: float64(4), int64(6), object(7)\n",
      "memory usage: 132.4+ KB\n"
     ]
    }
   ],
   "source": [
    "#deleted rows with missing information\n",
    "\n",
    "df_Modified_0 = df\n",
    "\n",
    "for i in range(len(missingValues)):\n",
    "    df_Modified_0 = df_Modified_0.drop(missingValues[i][0])\n",
    "\n",
    "df_Modified_0.reset_index(drop=True, inplace=True)\n",
    "\n",
    "df_Modified_0.info()"
   ]
  },
  {
   "cell_type": "code",
   "execution_count": 8,
   "id": "8536d753",
   "metadata": {},
   "outputs": [
    {
     "name": "stdout",
     "output_type": "stream",
     "text": [
      "27.35735735735736\n",
      "yes\n",
      "Jack Sparrow\n",
      "2.545165165165167\n"
     ]
    }
   ],
   "source": [
    "#find mode or average of row with missing information and added it to missing spot\n",
    "\n",
    "df_Modified_1 = df\n",
    "\n",
    "for i in range(len(missingValues)):\n",
    "    if isinstance(df[missingValues[i][1]][0], float):\n",
    "        df_Modified_1.at[missingValues[i][0], missingValues[i][1]] = df[missingValues[i][1]].mean()\n",
    "    else:\n",
    "        df_Modified_1.at[missingValues[i][0], missingValues[i][1]] = df[missingValues[i][1]].mode()[0]\n",
    "        \n",
    "\n",
    "print(df_Modified_1.loc[missingValues[0][0], missingValues[0][1]])\n",
    "print(df_Modified_1.loc[missingValues[1][0], missingValues[1][1]])\n",
    "print(df_Modified_1.loc[missingValues[2][0], missingValues[2][1]])\n",
    "print(df_Modified_1.loc[missingValues[3][0], missingValues[3][1]])"
   ]
  },
  {
   "cell_type": "code",
   "execution_count": 9,
   "id": "f0eab013",
   "metadata": {},
   "outputs": [
    {
     "name": "stdout",
     "output_type": "stream",
     "text": [
      "3 genders are represented in the data: \n",
      "male\n",
      "female\n",
      "other\n"
     ]
    }
   ],
   "source": [
    "#Challenge 4.1 - how many genders represented\n",
    "\n",
    "genderCount = []\n",
    "\n",
    "for i in range(len(df_Modified_0[\"sex\"])):\n",
    "    gender = df_Modified_0.loc[i, \"sex\"]\n",
    "    if gender not in genderCount:\n",
    "        genderCount.append(gender)\n",
    "        \n",
    "print(str(len(genderCount)) + \" genders are represented in the data: \")\n",
    "for i in range(len(genderCount)):\n",
    "    print(genderCount[i])"
   ]
  },
  {
   "cell_type": "code",
   "execution_count": 10,
   "id": "687d971b",
   "metadata": {},
   "outputs": [
    {
     "name": "stdout",
     "output_type": "stream",
     "text": [
      "the average age was 27.3714859437751\n",
      "the average female age was 29.932900432900432\n"
     ]
    }
   ],
   "source": [
    "#Challenge 4.2a and 4.2b - average age of a pirate and average age of female pirates\n",
    "\n",
    "avgAge = df_Modified_0[\"age\"].mean()\n",
    "print(\"the average age was \" + str(avgAge))\n",
    "\n",
    "\n",
    "avgFemaleAge = 0\n",
    "femaleAges = []\n",
    "\n",
    "for i in range(len(df_Modified_0[\"sex\"])):\n",
    "    gender = df_Modified_0.loc[i, \"sex\"]\n",
    "    if gender == \"female\":\n",
    "        femaleCount += 1\n",
    "        femaleAges.append(df_Modified_0.loc[i, \"age\"])\n",
    "        \n",
    "avgFemaleAge = sum(femaleAges)/len(femaleAges)\n",
    "\n",
    "#Shorthand way of doing it\n",
    "#avgFemaleAge = df_Modified_0[\"age\"][df_Modified_0[\"sex\"] == \"female\"].mean()\n",
    "\n",
    "print(\"the average female age was \" + str(avgFemaleAge))"
   ]
  },
  {
   "cell_type": "code",
   "execution_count": 11,
   "id": "c87f8280",
   "metadata": {
    "scrolled": true
   },
   "outputs": [
    {
     "ename": "SyntaxError",
     "evalue": "invalid syntax (2053895431.py, line 21)",
     "output_type": "error",
     "traceback": [
      "\u001b[1;36m  File \u001b[1;32m\"C:\\Users\\zmajernik\\AppData\\Local\\Temp\\ipykernel_16732\\2053895431.py\"\u001b[1;36m, line \u001b[1;32m21\u001b[0m\n\u001b[1;33m    print(str(percentUnder100) + \"% weighed less than 100lbs\")\u001b[0m\n\u001b[1;37m    ^\u001b[0m\n\u001b[1;31mSyntaxError\u001b[0m\u001b[1;31m:\u001b[0m invalid syntax\n"
     ]
    }
   ],
   "source": [
    "#challenge 4.3 - what % of pirates were over 100 lbs\n",
    "#dataset is in kg, 1 kg = 2.2 lbs\n",
    "\n",
    "#function converts lbs to kg\n",
    "def convertToKg(lbs):\n",
    "    conversion = lbs/2.2\n",
    "    return conversion\n",
    "\n",
    "countUnder100 = 0\n",
    "percentUnder100 = 0\n",
    "\n",
    "for i in range(len(df_Modified_0[\"weight\"])):\n",
    "    weight = df_Modified_0.loc[i, \"weight\"]\n",
    "    if weight < convertToKg(100):\n",
    "        countUnder100 += 1\n",
    "        \n",
    "percentUnder100 = (countUnder100/len(df_Modified_0[\"weight\"]))*100\n",
    "\n",
    "print(str(percentUnder100) + \"% weighed less than 100lbs\")"
   ]
  },
  {
   "cell_type": "code",
   "execution_count": 26,
   "id": "86423547",
   "metadata": {},
   "outputs": [
    {
     "name": "stdout",
     "output_type": "stream",
     "text": [
      "the id of the shortest pirate is 38 with a height of 129.83 cm\n"
     ]
    }
   ],
   "source": [
    "#challenge 5.1 - shortest pirate\n",
    "\n",
    "shortestHeight = df_Modified_0[\"height\"].min()\n",
    "\n",
    "#finds the index of the minimum in \"height\" \n",
    "shortestID = df_Modified_0[\"height\"].idxmin() + 1\n",
    "\n",
    "print(\"the id of the shortest pirate is \" + str(shortestID) + \" with a height of \" + str(shortestHeight) + \" cm\")"
   ]
  },
  {
   "cell_type": "code",
   "execution_count": 30,
   "id": "edbed898",
   "metadata": {},
   "outputs": [
    {
     "name": "stdout",
     "output_type": "stream",
     "text": [
      "the id of the heaviest pirate is 2 with a weight of 105.6 kg\n"
     ]
    }
   ],
   "source": [
    "#challenge 5.2 - heaviest pirate \n",
    "\n",
    "greatestWeight = df_Modified_0[\"weight\"].max()\n",
    "\n",
    "#finds the index of the maximum in \"weight\"  \n",
    "heaviestID = df_Modified_0[\"height\"].idxmax() + 1\n",
    "\n",
    "print(\"the id of the heaviest pirate is \" + str(heaviestID) + \" with a weight of \" + str(greatestWeight) + \" kg\")"
   ]
  },
  {
   "cell_type": "code",
   "execution_count": 34,
   "id": "e14148c8",
   "metadata": {},
   "outputs": [
    {
     "name": "stdout",
     "output_type": "stream",
     "text": [
      "the most popular favorite movie was Inside Out\n"
     ]
    }
   ],
   "source": [
    "#challenge 5.3 - most popular movie\n",
    "\n",
    "favMovie = df_Modified_0[\"fav.pixar\"].mode()[0]\n",
    "\n",
    "print(\"the most popular favorite movie was \" + favMovie)"
   ]
  },
  {
   "cell_type": "code",
   "execution_count": 37,
   "id": "c9c3b516",
   "metadata": {},
   "outputs": [
    {
     "name": "stdout",
     "output_type": "stream",
     "text": [
      "avg number of eyepatches worn was 0.6576305220883534and the median number was 1.0\n"
     ]
    }
   ],
   "source": [
    "#challenge 6.1a and 6.1b - average and median number of eyepatches worn\n",
    "\n",
    "avgEyepatch = df_Modified_0[\"eyepatch\"].mean()\n",
    "medianEyepatch = df_Modified_0[\"eyepatch\"].median()\n",
    "\n",
    "print(\"avg number of eyepatches worn was \" + str(avgEyepatch) + \"and the median number was \" + str(medianEyepatch))"
   ]
  },
  {
   "cell_type": "code",
   "execution_count": 57,
   "id": "63e292bd",
   "metadata": {},
   "outputs": [
    {
     "name": "stdout",
     "output_type": "stream",
     "text": [
      "\"\n"
     ]
    }
   ],
   "source": [
    "#challenge 6.2a and 6.2b - avg number of parrots owned and median owned\n",
    "\n",
    "remove = \"\\\"\"\n",
    "\n",
    "# avgParrot = df_Modified_0[\"parrots\"].mean()\n",
    "# medianParrot = df_Modified_0[\"parrots\"].median()\n",
    "\n",
    "# print(\"avg number of parrots owned was \" + str(avgParrots) + \"and the median number was \" + str(medianParrots))"
   ]
  },
  {
   "cell_type": "code",
   "execution_count": null,
   "id": "b0b5d18a",
   "metadata": {},
   "outputs": [],
   "source": []
  }
 ],
 "metadata": {
  "kernelspec": {
   "display_name": "Python 3 (ipykernel)",
   "language": "python",
   "name": "python3"
  },
  "language_info": {
   "codemirror_mode": {
    "name": "ipython",
    "version": 3
   },
   "file_extension": ".py",
   "mimetype": "text/x-python",
   "name": "python",
   "nbconvert_exporter": "python",
   "pygments_lexer": "ipython3",
   "version": "3.9.13"
  }
 },
 "nbformat": 4,
 "nbformat_minor": 5
}
