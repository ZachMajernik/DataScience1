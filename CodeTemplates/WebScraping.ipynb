{
 "cells": [
  {
   "cell_type": "code",
   "execution_count": 1,
   "id": "662c6110",
   "metadata": {},
   "outputs": [],
   "source": [
    "from bs4 import BeautifulSoup\n",
    "import requests\n",
    "import pandas as pd\n",
    "import seaborn as sns\n",
    "import matplotlib.pyplot as plt\n",
    "import numpy as np"
   ]
  },
  {
   "cell_type": "code",
   "execution_count": 2,
   "id": "2bb02104",
   "metadata": {},
   "outputs": [
    {
     "name": "stdout",
     "output_type": "stream",
     "text": [
      "A pizza farm can be both a farm-based food-service establishment that sells pizza or a demonstration farm that educates visitors about agriculture by growing pizza ingredients, sometimes on a circular piece of land partitioned into plots shaped like pizza slices.[1]\n",
      "\n",
      "Some pizza farms are demonstration farms that educate visitors about agriculture by growing pizza ingredients, sometimes on a circular piece of land partitioned into plots shaped like pizza slices. The farm often grows ingredients that can be used in pizza, such as wheat for the crust, tomatoes, herbs, pork for pepperoni, dairy cows for cheese, and even trees for pizza oven firewood. Certain farms may even have access to coal or natural gas deposits that can be used as additional pizza oven heating fuels.\n",
      "\n",
      "Some pizza farms are primarily farm-based food service establishments that sell pizza. Pizza farms have become popular in Minnesota, Wisconsin, and Iowa. Farms often grow or raise many of their own ingredients, similar to demonstration pizza farms.[7][8][9]\n",
      "\n",
      "This agriculture article is a stub. You can help Wikipedia by expanding it.\n"
     ]
    }
   ],
   "source": [
    "# URL of the Wikipedia article you want to scrape\n",
    "url = \"https://en.wikipedia.org/wiki/Pizza_farm\"\n",
    "\n",
    "# Make an HTTP request to the URL\n",
    "response = requests.get(url)\n",
    "\n",
    "# Parse the HTML content of the page\n",
    "soup0 = BeautifulSoup(response.content, 'html.parser')\n",
    "\n",
    "# Locate the HTML elements that contain the article content (typically within <p> tags)\n",
    "paragraphs = soup0.find_all('p')\n",
    "\n",
    "# Extract the text from the paragraphs and concatenate it into one variable\n",
    "article_text = '\\n'.join([p.get_text() for p in paragraphs])\n",
    "\n",
    "# Print or use the article text as needed\n",
    "print(article_text)"
   ]
  },
  {
   "cell_type": "code",
   "execution_count": 3,
   "id": "4f3d87e4",
   "metadata": {},
   "outputs": [],
   "source": [
    "# links = soup0.find_all('a')\n",
    "# len(links)"
   ]
  },
  {
   "cell_type": "code",
   "execution_count": 4,
   "id": "0992979b",
   "metadata": {},
   "outputs": [
    {
     "name": "stdout",
     "output_type": "stream",
     "text": [
      "A gravity hill, also known as a magnetic hill, mystery hill, mystery spot, gravity road, or anti-gravity hill, is a place where the layout of the surrounding land produces an optical illusion, making a slight downhill slope appear to be an uphill slope. Thus, a car left out of gear will appear to be rolling uphill against gravity.[1]\n",
      "\n",
      "The slope of gravity hills is an optical illusion,[2] although sites are often accompanied by claims that magnetic or supernatural forces are at work. The most important factor contributing to the illusion is a completely or mostly obstructed horizon. Without a horizon, it becomes difficult for a person to judge the slope of a surface, as a reliable reference is missing. Objects which one would normally assume to be more or less perpendicular to the ground, such as trees, may be leaning, offsetting the visual reference.[3]\n",
      "\n",
      "A 2003 study looked into how the absence of a horizon can skew the perspective on gravity hills, by recreating a number of antigravity places in the lab to see how volunteers would react. As a conclusion, researchers from Universities of Padova and Pavia in Italy found that without a true horizon in sight, the human brain could be tricked by common landmarks such as trees and signs.[4]\n",
      "\n",
      "The illusion is similar to the Ames room, in which objects can also appear to roll against gravity.\n",
      "\n",
      "The opposite phenomenon—an uphill road that appears flat—is known in bicycle racing as a \"false flat\".[5]\n",
      "\n"
     ]
    }
   ],
   "source": [
    "url = \"https://en.wikipedia.org/wiki/Gravity_hill\"\n",
    "\n",
    "response = requests.get(url)\n",
    "\n",
    "soup = BeautifulSoup(response.content, 'html.parser')\n",
    "\n",
    "paragraphs = soup.find_all('p')\n",
    "\n",
    "article_text = '\\n'.join([p.get_text() for p in paragraphs])\n",
    "\n",
    "print(article_text)"
   ]
  },
  {
   "cell_type": "code",
   "execution_count": 5,
   "id": "f01c65e3",
   "metadata": {},
   "outputs": [
    {
     "name": "stdout",
     "output_type": "stream",
     "text": [
      "211\n",
      "https://ar.wikipedia.org/wiki/%D8%AA%D9%84%D8%A9_%D9%85%D8%BA%D9%86%D8%A7%D8%B7%D9%8A%D8%B3%D9%8A%D8%A9\n",
      "https://ast.wikipedia.org/wiki/Llomba_gravitacional\n",
      "https://bn.wikipedia.org/wiki/%E0%A6%85%E0%A6%AD%E0%A6%BF%E0%A6%95%E0%A6%B0%E0%A7%8D%E0%A6%B7_%E0%A6%AA%E0%A6%B0%E0%A7%8D%E0%A6%AC%E0%A6%A4\n",
      "https://cs.wikipedia.org/wiki/Magnetick%C3%BD_kopec\n",
      "https://da.wikipedia.org/wiki/Gravitationsbakke\n",
      "https://es.wikipedia.org/wiki/Colina_gravitacional\n",
      "https://fa.wikipedia.org/wiki/%D8%AA%D9%BE%D9%87_%DA%AF%D8%B1%D8%A7%D9%86%D8%B4%DB%8C\n",
      "https://fr.wikipedia.org/wiki/C%C3%B4te_magn%C3%A9tique\n",
      "https://gu.wikipedia.org/wiki/%E0%AA%9A%E0%AB%81%E0%AA%82%E0%AA%AC%E0%AA%95%E0%AB%80%E0%AA%AF_%E0%AA%9F%E0%AB%87%E0%AA%95%E0%AA%B0%E0%AB%80%E0%AA%93\n",
      "https://ko.wikipedia.org/wiki/%EB%8F%84%EA%B9%A8%EB%B9%84%EB%8F%84%EB%A1%9C\n",
      "https://hy.wikipedia.org/wiki/%D5%84%D5%A1%D5%A3%D5%B6%D5%AB%D5%BD%D5%A1%D5%AF%D5%A1%D5%B6_%D5%AC%D5%A5%D5%BC\n",
      "https://id.wikipedia.org/wiki/Bukit_gravitasi\n",
      "https://it.wikipedia.org/wiki/Salita_in_discesa\n",
      "https://he.wikipedia.org/wiki/%D7%94%D7%9B%D7%91%D7%99%D7%A9_%D7%94%D7%9E%D7%9B%D7%95%D7%A9%D7%A3\n",
      "https://jv.wikipedia.org/wiki/Punthuk_magn%C3%A8t\n",
      "https://ka.wikipedia.org/wiki/%E1%83%9B%E1%83%90%E1%83%92%E1%83%9C%E1%83%98%E1%83%A2%E1%83%A3%E1%83%A0%E1%83%98_%E1%83%91%E1%83%9D%E1%83%A0%E1%83%AA%E1%83%95%E1%83%98\n",
      "https://kk.wikipedia.org/wiki/%D0%96%D0%BE%D0%B1%D0%B0:%D0%98%D0%BD%D0%BA%D1%83%D0%B1%D0%B0%D1%82%D0%BE%D1%80/%D0%93%D1%80%D0%B0%D0%B2%D0%B8%D1%82%D0%B0%D1%86%D0%B8%D1%8F%D0%BB%D1%8B%D2%9B_%D1%82%D3%A9%D0%B1%D0%B5\n",
      "https://hu.wikipedia.org/wiki/Gravit%C3%A1ci%C3%B3s_domb\n",
      "https://my.wikipedia.org/wiki/%E1%80%99%E1%80%BC%E1%80%B1%E1%80%86%E1%80%BD%E1%80%B2%E1%80%A1%E1%80%AC%E1%80%B8_%E1%80%90%E1%80%B1%E1%80%AC%E1%80%84%E1%80%BA%E1%80%80%E1%80%AF%E1%80%94%E1%80%BA%E1%80%B8\n",
      "https://nl.wikipedia.org/wiki/Gravitatieheuvel\n",
      "https://ja.wikipedia.org/wiki/%E3%82%B0%E3%83%A9%E3%83%93%E3%83%86%E3%82%A3%E3%83%92%E3%83%AB\n",
      "https://pl.wikipedia.org/wiki/Magiczna_g%C3%B3rka\n",
      "https://pt.wikipedia.org/wiki/Ladeira_gravitacional\n",
      "https://ru.wikipedia.org/wiki/%D0%93%D1%80%D0%B0%D0%B2%D0%B8%D1%82%D0%B0%D1%86%D0%B8%D0%BE%D0%BD%D0%BD%D1%8B%D0%B9_%D1%85%D0%BE%D0%BB%D0%BC\n",
      "https://sv.wikipedia.org/wiki/Magnetisk_kulle\n",
      "https://th.wikipedia.org/wiki/%E0%B9%80%E0%B8%99%E0%B8%B4%E0%B8%99%E0%B8%84%E0%B8%A7%E0%B8%B2%E0%B8%A1%E0%B9%82%E0%B8%99%E0%B9%89%E0%B8%A1%E0%B8%96%E0%B9%88%E0%B8%A7%E0%B8%87\n",
      "https://uk.wikipedia.org/wiki/%D0%93%D1%80%D0%B0%D0%B2%D1%96%D1%82%D0%B0%D1%86%D1%96%D0%B9%D0%BD%D0%B8%D0%B9_%D0%BF%D0%B0%D0%B3%D0%BE%D1%80%D0%B1\n",
      "https://ur.wikipedia.org/wiki/%DA%A9%D8%B4%D8%B4_%D8%AB%D9%82%D9%84_%D9%BE%DB%81%D8%A7%DA%91%DB%8C\n",
      "https://zh.wikipedia.org/wiki/%E9%87%8D%E5%8A%9B%E5%B1%B1\n",
      "https://www.wikidata.org/wiki/Special:EntityPage/Q2086896#sitelinks-wikipedia\n",
      "https://www.wikidata.org/wiki/Special:EntityPage/Q2086896\n",
      "https://math.ucr.edu/home/baez/physics/General/roll-uphill.html\n",
      "https://zenodo.org/record/1006741\n",
      "https://doi.org/10.1111%2F1467-9280.02451\n",
      "https://pubmed.ncbi.nlm.nih.gov/12930474\n",
      "https://api.semanticscholar.org/CorpusID:10405595\n",
      "https://zenodo.org/record/1006741#.Wdx33hhh1YI\n",
      "https://web.archive.org/web/20080217004146/http://www.sciencedaily.com/videos/2006/0609-the_mysterious_gravity_hill.htm\n",
      "https://www.sciencealert.com/gravity-hills-physics-defying-optical-illusion-car-drifts-uphill\n",
      "https://books.google.com/books?id=PCO8d0hhzK4C&amp;pg=PA114\n",
      "https://commons.wikimedia.org/wiki/Category:Gravity_hills\n",
      "https://skeptoid.com/episodes/4240\n",
      "https://en.wikipedia.org/w/index.php?title=Gravity_hill&amp;oldid=1178103603\n"
     ]
    }
   ],
   "source": [
    "linkList = []\n",
    "\n",
    "links = soup.find_all('a')\n",
    "print(len(links))\n",
    "strLinks = [str(item) for item in links]\n",
    "for i in range(len(strLinks)):\n",
    "    splitStr = strLinks[i].split(\"\\\"\")\n",
    "    for j in range(len(splitStr)):\n",
    "        if splitStr[j] == \" href=\":\n",
    "            link = splitStr[j+1]\n",
    "            if link.split(\":\")[0] == \"https\":\n",
    "                if len(linkList) < 50:\n",
    "                    linkList.append(link)\n",
    "                    print(link)\n",
    "                else:\n",
    "                    break"
   ]
  },
  {
   "cell_type": "code",
   "execution_count": 10,
   "id": "ec566222",
   "metadata": {},
   "outputs": [
    {
     "name": "stdout",
     "output_type": "stream",
     "text": [
      "[4, 160]\n",
      "[4, 73]\n",
      "[3, 75]\n",
      "[2, 74]\n",
      "[4, 76]\n",
      "[4, 72]\n",
      "[3, 103]\n",
      "[6, 75]\n",
      "[3, 61]\n",
      "[2, 64]\n",
      "[5, 64]\n",
      "[3, 79]\n",
      "[7, 86]\n",
      "[4, 73]\n",
      "[1, 73]\n",
      "[3, 61]\n",
      "[6, 71]\n",
      "[7, 65]\n",
      "[4, 69]\n",
      "[5, 77]\n",
      "[4, 87]\n",
      "[5, 91]\n",
      "[2, 68]\n",
      "[3, 82]\n",
      "[3, 73]\n",
      "[6, 79]\n",
      "[3, 66]\n",
      "[2, 66]\n",
      "[4, 142]\n",
      "[0, 21]\n",
      "[0, 21]\n",
      "[13, 0]\n",
      "[7, 16]\n",
      "[0, 0]\n",
      "[12, 116]\n",
      "[0, 0]\n",
      "[7, 16]\n",
      "[17, 63]\n",
      "[25, 13]\n",
      "[2, 31]\n",
      "[2, 96]\n",
      "[69, 7]\n",
      "[5, 80]\n"
     ]
    }
   ],
   "source": [
    "linkAndPar = []\n",
    "\n",
    "for i in range(len(linkList)):\n",
    "    url = linkList[i]\n",
    "    response = requests.get(url)\n",
    "    soup = BeautifulSoup(response.content, 'html.parser')\n",
    "    paragraphs = soup.find_all('p')\n",
    "    article_text = '\\n'.join([p.get_text() for p in paragraphs])\n",
    "    \n",
    "    linkCount = []\n",
    "    \n",
    "    links1 = soup.find_all('a')\n",
    "    strLinks1 = [str(item) for item in links1]\n",
    "    strLinks1 = [str(item) for item in links1]\n",
    "    for i in range(len(strLinks1)):\n",
    "        splitStr1 = strLinks1[i].split(\"\\\"\")\n",
    "        for j in range(len(splitStr1)):\n",
    "            if splitStr1[j] == \" href=\":\n",
    "                link = splitStr[j+1]\n",
    "                linkCount.append(link)\n",
    "    \n",
    "    lAndP = [len(soup.find_all('p')),len(linkCount)]\n",
    "    print(lAndP)\n",
    "    \n",
    "    linkAndPar.append(lAndP)\n",
    "    \n",
    "    if i == len(linkList) - 1:\n",
    "        print(\"done\")"
   ]
  },
  {
   "cell_type": "code",
   "execution_count": 11,
   "id": "c1e3245a",
   "metadata": {},
   "outputs": [],
   "source": [
    "df = pd.DataFrame(linkAndPar)"
   ]
  },
  {
   "cell_type": "code",
   "execution_count": 12,
   "id": "147ea975",
   "metadata": {},
   "outputs": [],
   "source": [
    "df = df.rename(columns={0: 'links', 1: 'paragraphs'})"
   ]
  },
  {
   "cell_type": "code",
   "execution_count": 13,
   "id": "79f9ec72",
   "metadata": {},
   "outputs": [
    {
     "data": {
      "text/html": [
       "<div>\n",
       "<style scoped>\n",
       "    .dataframe tbody tr th:only-of-type {\n",
       "        vertical-align: middle;\n",
       "    }\n",
       "\n",
       "    .dataframe tbody tr th {\n",
       "        vertical-align: top;\n",
       "    }\n",
       "\n",
       "    .dataframe thead th {\n",
       "        text-align: right;\n",
       "    }\n",
       "</style>\n",
       "<table border=\"1\" class=\"dataframe\">\n",
       "  <thead>\n",
       "    <tr style=\"text-align: right;\">\n",
       "      <th></th>\n",
       "      <th>links</th>\n",
       "      <th>paragraphs</th>\n",
       "    </tr>\n",
       "  </thead>\n",
       "  <tbody>\n",
       "    <tr>\n",
       "      <th>38</th>\n",
       "      <td>25</td>\n",
       "      <td>13</td>\n",
       "    </tr>\n",
       "    <tr>\n",
       "      <th>39</th>\n",
       "      <td>2</td>\n",
       "      <td>31</td>\n",
       "    </tr>\n",
       "    <tr>\n",
       "      <th>40</th>\n",
       "      <td>2</td>\n",
       "      <td>96</td>\n",
       "    </tr>\n",
       "    <tr>\n",
       "      <th>41</th>\n",
       "      <td>69</td>\n",
       "      <td>7</td>\n",
       "    </tr>\n",
       "    <tr>\n",
       "      <th>42</th>\n",
       "      <td>5</td>\n",
       "      <td>80</td>\n",
       "    </tr>\n",
       "  </tbody>\n",
       "</table>\n",
       "</div>"
      ],
      "text/plain": [
       "    links  paragraphs\n",
       "38     25          13\n",
       "39      2          31\n",
       "40      2          96\n",
       "41     69           7\n",
       "42      5          80"
      ]
     },
     "execution_count": 13,
     "metadata": {},
     "output_type": "execute_result"
    }
   ],
   "source": [
    "df.tail()"
   ]
  },
  {
   "cell_type": "code",
   "execution_count": 14,
   "id": "ff29b404",
   "metadata": {},
   "outputs": [
    {
     "data": {
      "image/png": "[encoded data removed]",
      "text/plain": [
       "<Figure size 640x480 with 1 Axes>"
      ]
     },
     "metadata": {},
     "output_type": "display_data"
    }
   ],
   "source": [
    "x = df['paragraphs']\n",
    "y = df['links']\n",
    "\n",
    "# Create a scatterplot with a regression line\n",
    "sns.regplot(x=x, y=y)\n",
    "\n",
    "# Calculate R-squared\n",
    "slope, intercept = np.polyfit(x, y, 1)\n",
    "r_squared = np.corrcoef(x, y)[0, 1]**2\n",
    "\n",
    "# Add R-squared value to the legend\n",
    "plt.text(200, 60, f'R-squared = {r_squared:.2f}', fontsize=12, color='red')\n",
    "\n",
    "# Show the plot\n",
    "plt.show()"
   ]
  },
  {
   "cell_type": "code",
   "execution_count": 16,
   "id": "00ddc1a8",
   "metadata": {},
   "outputs": [
    {
     "data": {
      "text/plain": [
       "43"
      ]
     },
     "execution_count": 16,
     "metadata": {},
     "output_type": "execute_result"
    }
   ],
   "source": []
  },
  {
   "cell_type": "code",
   "execution_count": null,
   "id": "ce3a9e63",
   "metadata": {},
   "outputs": [],
   "source": []
  }
 ],
 "metadata": {
  "kernelspec": {
   "display_name": "Python 3 (ipykernel)",
   "language": "python",
   "name": "python3"
  },
  "language_info": {
   "codemirror_mode": {
    "name": "ipython",
    "version": 3
   },
   "file_extension": ".py",
   "mimetype": "text/x-python",
   "name": "python",
   "nbconvert_exporter": "python",
   "pygments_lexer": "ipython3",
   "version": "3.9.13"
  }
 },
 "nbformat": 4,
 "nbformat_minor": 5
}
