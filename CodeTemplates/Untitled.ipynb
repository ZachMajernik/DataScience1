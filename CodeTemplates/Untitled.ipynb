{
 "cells": [
  {
   "cell_type": "code",
   "execution_count": 1,
   "id": "dce69494",
   "metadata": {},
   "outputs": [],
   "source": [
    "numOfPirates = 10\n",
    "pirate0 = [\"Blackbeard\", 'M', 40, 6.4, False]\n",
    "pirate1 = [\"Anne Bonny\", 'F', 24, 5.6, True]\n",
    "pirate2 = [\"Calico Jack\", 'M', 37, 5.6, True]\n",
    "pirate3 = [\"Cheung Po Tsai\", 'M', 39, 5.3, False]\n",
    "pirate4 = [\"Grace O'Malley\", 'F', 73, 5.0, False]\n",
    "pirate5 = [\"Mary Read\", 'F', 36, 5.1, True]\n",
    "pirate6 = [\"Sayyida al Hurra\", 'F', 75, \"NOT RECORDED\", False]\n",
    "pirate7 = [\"Ching Shih\", 'F', 69, 5.3, False]\n",
    "pirate8 = [\"Sir Francis Drake\", 'M', 56, 5.5, False]\n",
    "pirate9 = [\"Jean Lafitte\", 'M', 46, 6.2, False]"
   ]
  },
  {
   "cell_type": "code",
   "execution_count": 2,
   "id": "bf58c521",
   "metadata": {},
   "outputs": [],
   "source": [
    "pirateInfo = [pirate0,pirate1,pirate2,pirate3,pirate4,pirate5,pirate6,pirate7,pirate8,pirate9]"
   ]
  },
  {
   "cell_type": "code",
   "execution_count": 3,
   "id": "ef02ec81",
   "metadata": {
    "scrolled": true
   },
   "outputs": [
    {
     "name": "stdout",
     "output_type": "stream",
     "text": [
      "-------------------------------------------\n",
      "Name: Blackbeard\n",
      "Sex: M\n",
      "Age At Death: 40\n",
      "Height <feet.inches>: 6.4\n",
      "Used Skull & Crossbones flag: False\n",
      "-------------------------------------------\n",
      "Name: Anne Bonny\n",
      "Sex: F\n",
      "Age At Death: 24\n",
      "Height <feet.inches>: 5.6\n",
      "Used Skull & Crossbones flag: True\n",
      "-------------------------------------------\n",
      "Name: Calico Jack\n",
      "Sex: M\n",
      "Age At Death: 37\n",
      "Height <feet.inches>: 5.6\n",
      "Used Skull & Crossbones flag: True\n",
      "-------------------------------------------\n",
      "Name: Cheung Po Tsai\n",
      "Sex: M\n",
      "Age At Death: 39\n",
      "Height <feet.inches>: 5.3\n",
      "Used Skull & Crossbones flag: False\n",
      "-------------------------------------------\n",
      "Name: Grace O'Malley\n",
      "Sex: F\n",
      "Age At Death: 73\n",
      "Height <feet.inches>: 5.0\n",
      "Used Skull & Crossbones flag: False\n",
      "-------------------------------------------\n",
      "Name: Mary Read\n",
      "Sex: F\n",
      "Age At Death: 36\n",
      "Height <feet.inches>: 5.1\n",
      "Used Skull & Crossbones flag: True\n",
      "-------------------------------------------\n",
      "Name: Sayyida al Hurra\n",
      "Sex: F\n",
      "Age At Death: 75\n",
      "Height <feet.inches>: NOT RECORDED\n",
      "Used Skull & Crossbones flag: False\n",
      "-------------------------------------------\n",
      "Name: Ching Shih\n",
      "Sex: F\n",
      "Age At Death: 69\n",
      "Height <feet.inches>: 5.3\n",
      "Used Skull & Crossbones flag: False\n",
      "-------------------------------------------\n",
      "Name: Sir Francis Drake\n",
      "Sex: M\n",
      "Age At Death: 56\n",
      "Height <feet.inches>: 5.5\n",
      "Used Skull & Crossbones flag: False\n",
      "-------------------------------------------\n",
      "Name: Jean Lafitte\n",
      "Sex: M\n",
      "Age At Death: 46\n",
      "Height <feet.inches>: 6.2\n",
      "Used Skull & Crossbones flag: False\n"
     ]
    }
   ],
   "source": [
    "for currentPirate in pirateInfo:\n",
    "    print(\"-------------------------------------------\")\n",
    "    print(\"Name: \" + currentPirate[0])\n",
    "    print(\"Sex: \" + currentPirate[1])\n",
    "    print(\"Age At Death: \" +  str(currentPirate[2]))\n",
    "    print(\"Height <feet.inches>: \" +  str(currentPirate[3]))\n",
    "    print(\"Used Skull & Crossbones flag: \" +  str(currentPirate[4]))\n"
   ]
  },
  {
   "cell_type": "code",
   "execution_count": 4,
   "id": "5523dfee",
   "metadata": {
    "scrolled": true
   },
   "outputs": [
    {
     "name": "stdout",
     "output_type": "stream",
     "text": [
      "-------------------------------------------\n",
      "Name: Blackbeard\n",
      "Sex: M\n",
      "Age At Death: 40\n",
      "Height <feet.inches>: 6.4\n",
      "Used Skull & Crossbones flag: False\n"
     ]
    }
   ],
   "source": [
    "# Challenge 1: just Blackbeard\n",
    "\n",
    "for currentPirate in pirateInfo:\n",
    "    print(\"-------------------------------------------\")\n",
    "    print(\"Name: \" + currentPirate[0])\n",
    "    print(\"Sex: \" + currentPirate[1])\n",
    "    print(\"Age At Death: \" +  str(currentPirate[2]))\n",
    "    print(\"Height <feet.inches>: \" +  str(currentPirate[3]))\n",
    "    print(\"Used Skull & Crossbones flag: \" +  str(currentPirate[4]))\n",
    "    break\n",
    "    "
   ]
  },
  {
   "cell_type": "code",
   "execution_count": 10,
   "id": "bf8f75b7",
   "metadata": {},
   "outputs": [
    {
     "name": "stdout",
     "output_type": "stream",
     "text": [
      "Used Skull & Crossbones flag: False\n",
      "Used Skull & Crossbones flag: False\n",
      "Used Skull & Crossbones flag: False\n",
      "Used Skull & Crossbones flag: False\n",
      "Used Skull & Crossbones flag: True\n",
      "Used Skull & Crossbones flag: False\n",
      "Used Skull & Crossbones flag: False\n",
      "Used Skull & Crossbones flag: True\n",
      "Used Skull & Crossbones flag: True\n",
      "Used Skull & Crossbones flag: False\n"
     ]
    }
   ],
   "source": [
    "#Challenge 2: Just booleans - bottom to top\n",
    "\n",
    "for i in range(numOfPirates):\n",
    "    targetIndex = (i - 9) * -1\n",
    "    currentPirate = pirateInfo[targetIndex]\n",
    "    print(\"Used Skull & Crossbones flag: \" +  str(currentPirate[4]))"
   ]
  },
  {
   "cell_type": "code",
   "execution_count": 11,
   "id": "0301062d",
   "metadata": {},
   "outputs": [
    {
     "name": "stdout",
     "output_type": "stream",
     "text": [
      "-------------------------------------------\n",
      "Name: Blackbeard\n",
      "Age At Death: 40\n",
      "Used Skull & Crossbones flag: False\n",
      "-------------------------------------------\n",
      "Name: Anne Bonny\n",
      "Age At Death: 24\n",
      "Used Skull & Crossbones flag: True\n",
      "-------------------------------------------\n",
      "Name: Calico Jack\n",
      "Age At Death: 37\n",
      "Used Skull & Crossbones flag: True\n",
      "-------------------------------------------\n",
      "Name: Cheung Po Tsai\n",
      "Age At Death: 39\n",
      "Used Skull & Crossbones flag: False\n",
      "-------------------------------------------\n",
      "Name: Grace O'Malley\n",
      "Age At Death: 73\n",
      "Used Skull & Crossbones flag: False\n",
      "-------------------------------------------\n",
      "Name: Mary Read\n",
      "Age At Death: 36\n",
      "Used Skull & Crossbones flag: True\n",
      "-------------------------------------------\n",
      "Name: Sayyida al Hurra\n",
      "Age At Death: 75\n",
      "Used Skull & Crossbones flag: False\n",
      "-------------------------------------------\n",
      "Name: Ching Shih\n",
      "Age At Death: 69\n",
      "Used Skull & Crossbones flag: False\n",
      "-------------------------------------------\n",
      "Name: Sir Francis Drake\n",
      "Age At Death: 56\n",
      "Used Skull & Crossbones flag: False\n",
      "-------------------------------------------\n",
      "Name: Jean Lafitte\n",
      "Age At Death: 46\n",
      "Used Skull & Crossbones flag: False\n"
     ]
    }
   ],
   "source": [
    "#Challenge 3: just columns 1,3, and 5\n",
    "\n",
    "for currentPirate in pirateInfo:\n",
    "    print(\"-------------------------------------------\")\n",
    "    print(\"Name: \" + currentPirate[0])\n",
    "\n",
    "    print(\"Age At Death: \" +  str(currentPirate[2]))\n",
    "\n",
    "    print(\"Used Skull & Crossbones flag: \" +  str(currentPirate[4]))"
   ]
  },
  {
   "cell_type": "code",
   "execution_count": 16,
   "id": "b73c5fe0",
   "metadata": {},
   "outputs": [],
   "source": [
    "#Change list Matrix into Dictionary\n",
    "\n",
    "pirate_dict = {\n",
    "        \"Name\": [\n",
    "                \"Blackbeard\",\n",
    "                \"Anne Bonny\",\n",
    "                \"Calico Jack\",\n",
    "                \"Cheung Po Tsai\",\n",
    "                \"Grace O'Malley\",\n",
    "                \"Mary Read\",\n",
    "                \"Sayyida al Hurra\",\n",
    "                \"Ching Shih\",\n",
    "                \"Sir Francis Drake\",\n",
    "                \"Jean Lafitte\",\n",
    "                ],\n",
    "        \"Sex\": [\n",
    "            \"M\", \"F\", \"M\", \"M\", \"F\", \"F\", \"F\", \"F\", \"M\", \"M\"\n",
    "        ],\n",
    "        \"Age At Death\": [40, 24, 37, 39, 73, 36, 75, 69, 56, 46],\n",
    "        \"Height\": [6.4, 5.6, 5.6, 5.3, 5.0, 5.1, \"NOT RECORDED\", 5.3, 5.5, 6.2],\n",
    "        \"Skull & Crossbones?\": [False, True, True, False, False, True, False, False, False, False]\n",
    "    }"
   ]
  },
  {
   "cell_type": "code",
   "execution_count": null,
   "id": "b39d9361",
   "metadata": {},
   "outputs": [],
   "source": []
  }
 ],
 "metadata": {
  "kernelspec": {
   "display_name": "Python 3 (ipykernel)",
   "language": "python",
   "name": "python3"
  },
  "language_info": {
   "codemirror_mode": {
    "name": "ipython",
    "version": 3
   },
   "file_extension": ".py",
   "mimetype": "text/x-python",
   "name": "python",
   "nbconvert_exporter": "python",
   "pygments_lexer": "ipython3",
   "version": "3.9.13"
  }
 },
 "nbformat": 4,
 "nbformat_minor": 5
}
