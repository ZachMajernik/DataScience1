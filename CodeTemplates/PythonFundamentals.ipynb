{
 "cells": [
  {
   "cell_type": "code",
   "execution_count": 2,
   "id": "dce69494",
   "metadata": {},
   "outputs": [],
   "source": [
    "numOfPirates = 10\n",
    "pirate0 = [\"Blackbeard\", 'M', 40, 6.4, False]\n",
    "pirate1 = [\"Anne Bonny\", 'F', 24, 5.6, True]\n",
    "pirate2 = [\"Calico Jack\", 'M', 37, 5.6, True]\n",
    "pirate3 = [\"Cheung Po Tsai\", 'M', 39, 5.3, False]\n",
    "pirate4 = [\"Grace O'Malley\", 'F', 73, 5.0, False]\n",
    "pirate5 = [\"Mary Read\", 'F', 36, 5.1, True]\n",
    "pirate6 = [\"Sayyida al Hurra\", 'F', 75, \"NOT RECORDED\", False]\n",
    "pirate7 = [\"Ching Shih\", 'F', 69, 5.3, False]\n",
    "pirate8 = [\"Sir Francis Drake\", 'M', 56, 5.5, False]\n",
    "pirate9 = [\"Jean Lafitte\", 'M', 46, 6.2, False]"
   ]
  },
  {
   "cell_type": "code",
   "execution_count": 3,
   "id": "bf58c521",
   "metadata": {},
   "outputs": [],
   "source": [
    "pirateInfo = [pirate0,pirate1,pirate2,pirate3,pirate4,pirate5,pirate6,pirate7,pirate8,pirate9]"
   ]
  },
  {
   "cell_type": "code",
   "execution_count": 4,
   "id": "ef02ec81",
   "metadata": {
    "scrolled": true
   },
   "outputs": [
    {
     "name": "stdout",
     "output_type": "stream",
     "text": [
      "-------------------------------------------\n",
      "Name: Blackbeard\n",
      "Sex: M\n",
      "Age At Death: 40\n",
      "Height <feet.inches>: 6.4\n",
      "Used Skull & Crossbones flag: False\n",
      "-------------------------------------------\n",
      "Name: Anne Bonny\n",
      "Sex: F\n",
      "Age At Death: 24\n",
      "Height <feet.inches>: 5.6\n",
      "Used Skull & Crossbones flag: True\n",
      "-------------------------------------------\n",
      "Name: Calico Jack\n",
      "Sex: M\n",
      "Age At Death: 37\n",
      "Height <feet.inches>: 5.6\n",
      "Used Skull & Crossbones flag: True\n",
      "-------------------------------------------\n",
      "Name: Cheung Po Tsai\n",
      "Sex: M\n",
      "Age At Death: 39\n",
      "Height <feet.inches>: 5.3\n",
      "Used Skull & Crossbones flag: False\n",
      "-------------------------------------------\n",
      "Name: Grace O'Malley\n",
      "Sex: F\n",
      "Age At Death: 73\n",
      "Height <feet.inches>: 5.0\n",
      "Used Skull & Crossbones flag: False\n",
      "-------------------------------------------\n",
      "Name: Mary Read\n",
      "Sex: F\n",
      "Age At Death: 36\n",
      "Height <feet.inches>: 5.1\n",
      "Used Skull & Crossbones flag: True\n",
      "-------------------------------------------\n",
      "Name: Sayyida al Hurra\n",
      "Sex: F\n",
      "Age At Death: 75\n",
      "Height <feet.inches>: NOT RECORDED\n",
      "Used Skull & Crossbones flag: False\n",
      "-------------------------------------------\n",
      "Name: Ching Shih\n",
      "Sex: F\n",
      "Age At Death: 69\n",
      "Height <feet.inches>: 5.3\n",
      "Used Skull & Crossbones flag: False\n",
      "-------------------------------------------\n",
      "Name: Sir Francis Drake\n",
      "Sex: M\n",
      "Age At Death: 56\n",
      "Height <feet.inches>: 5.5\n",
      "Used Skull & Crossbones flag: False\n",
      "-------------------------------------------\n",
      "Name: Jean Lafitte\n",
      "Sex: M\n",
      "Age At Death: 46\n",
      "Height <feet.inches>: 6.2\n",
      "Used Skull & Crossbones flag: False\n"
     ]
    }
   ],
   "source": [
    "for currentPirate in pirateInfo:\n",
    "    print(\"-------------------------------------------\")\n",
    "    print(\"Name: \" + currentPirate[0])\n",
    "    print(\"Sex: \" + currentPirate[1])\n",
    "    print(\"Age At Death: \" +  str(currentPirate[2]))\n",
    "    print(\"Height <feet.inches>: \" +  str(currentPirate[3]))\n",
    "    print(\"Used Skull & Crossbones flag: \" +  str(currentPirate[4]))\n"
   ]
  },
  {
   "cell_type": "code",
   "execution_count": 5,
   "id": "5523dfee",
   "metadata": {
    "scrolled": true
   },
   "outputs": [
    {
     "name": "stdout",
     "output_type": "stream",
     "text": [
      "-------------------------------------------\n",
      "Name: Blackbeard\n",
      "Sex: M\n",
      "Age At Death: 40\n",
      "Height <feet.inches>: 6.4\n",
      "Used Skull & Crossbones flag: False\n"
     ]
    }
   ],
   "source": [
    "# Challenge 1: just Blackbeard\n",
    "\n",
    "for currentPirate in pirateInfo:\n",
    "    print(\"-------------------------------------------\")\n",
    "    print(\"Name: \" + currentPirate[0])\n",
    "    print(\"Sex: \" + currentPirate[1])\n",
    "    print(\"Age At Death: \" +  str(currentPirate[2]))\n",
    "    print(\"Height <feet.inches>: \" +  str(currentPirate[3]))\n",
    "    print(\"Used Skull & Crossbones flag: \" +  str(currentPirate[4]))\n",
    "    break\n",
    "    "
   ]
  },
  {
   "cell_type": "code",
   "execution_count": 6,
   "id": "bf8f75b7",
   "metadata": {},
   "outputs": [
    {
     "name": "stdout",
     "output_type": "stream",
     "text": [
      "Used Skull & Crossbones flag: False\n",
      "Used Skull & Crossbones flag: False\n",
      "Used Skull & Crossbones flag: False\n",
      "Used Skull & Crossbones flag: False\n",
      "Used Skull & Crossbones flag: True\n",
      "Used Skull & Crossbones flag: False\n",
      "Used Skull & Crossbones flag: False\n",
      "Used Skull & Crossbones flag: True\n",
      "Used Skull & Crossbones flag: True\n",
      "Used Skull & Crossbones flag: False\n"
     ]
    }
   ],
   "source": [
    "#Challenge 2: Just booleans - bottom to top\n",
    "\n",
    "for i in range(numOfPirates):\n",
    "    targetIndex = (i - 9) * -1\n",
    "    currentPirate = pirateInfo[targetIndex]\n",
    "    print(\"Used Skull & Crossbones flag: \" +  str(currentPirate[4]))"
   ]
  },
  {
   "cell_type": "code",
   "execution_count": 7,
   "id": "0301062d",
   "metadata": {},
   "outputs": [
    {
     "name": "stdout",
     "output_type": "stream",
     "text": [
      "-------------------------------------------\n",
      "Name: Blackbeard\n",
      "Age At Death: 40\n",
      "Used Skull & Crossbones flag: False\n",
      "-------------------------------------------\n",
      "Name: Anne Bonny\n",
      "Age At Death: 24\n",
      "Used Skull & Crossbones flag: True\n",
      "-------------------------------------------\n",
      "Name: Calico Jack\n",
      "Age At Death: 37\n",
      "Used Skull & Crossbones flag: True\n",
      "-------------------------------------------\n",
      "Name: Cheung Po Tsai\n",
      "Age At Death: 39\n",
      "Used Skull & Crossbones flag: False\n",
      "-------------------------------------------\n",
      "Name: Grace O'Malley\n",
      "Age At Death: 73\n",
      "Used Skull & Crossbones flag: False\n",
      "-------------------------------------------\n",
      "Name: Mary Read\n",
      "Age At Death: 36\n",
      "Used Skull & Crossbones flag: True\n",
      "-------------------------------------------\n",
      "Name: Sayyida al Hurra\n",
      "Age At Death: 75\n",
      "Used Skull & Crossbones flag: False\n",
      "-------------------------------------------\n",
      "Name: Ching Shih\n",
      "Age At Death: 69\n",
      "Used Skull & Crossbones flag: False\n",
      "-------------------------------------------\n",
      "Name: Sir Francis Drake\n",
      "Age At Death: 56\n",
      "Used Skull & Crossbones flag: False\n",
      "-------------------------------------------\n",
      "Name: Jean Lafitte\n",
      "Age At Death: 46\n",
      "Used Skull & Crossbones flag: False\n"
     ]
    }
   ],
   "source": [
    "#Challenge 3: just columns 1,3, and 5\n",
    "\n",
    "for currentPirate in pirateInfo:\n",
    "    print(\"-------------------------------------------\")\n",
    "    print(\"Name: \" + currentPirate[0])\n",
    "\n",
    "    print(\"Age At Death: \" +  str(currentPirate[2]))\n",
    "\n",
    "    print(\"Used Skull & Crossbones flag: \" +  str(currentPirate[4]))"
   ]
  },
  {
   "cell_type": "code",
   "execution_count": 8,
   "id": "b73c5fe0",
   "metadata": {},
   "outputs": [],
   "source": [
    "#Change list Matrix into Dictionary\n",
    "\n",
    "pirates = {\n",
    "    \"Name\": [\"Blackbeard\",\"Anne Bonny\",\"Calico Jack\",\"Cheung Po Tsai\",\"Grace O'Malley\",\"Mary Read\",\n",
    "             \"Sayyida al Hurra\",\"Ching Shih\",\"Sir Francis Drake\",\"Jean Lafitte\",\n",
    "                ],\n",
    "    \"Sex\": [\n",
    "            \"M\", \"F\", \"M\", \"M\", \"F\", \"F\", \"F\", \"F\", \"M\", \"M\"\n",
    "        ],\n",
    "    \"AgeAtDeath\": [40, 24, 37, 39, 73, 36, 75, 69, 56, 46],\n",
    "    \"Height\": [6.4, 5.6, 5.6, 5.3, 5.0, 5.1, \"NOT RECORDED\", 5.3, 5.5, 6.2],\n",
    "    \"Skull&Crossbones\": [False, True, True, False, False, True, False, False, False, False]\n",
    "}"
   ]
  },
  {
   "cell_type": "code",
   "execution_count": 9,
   "id": "b39d9361",
   "metadata": {},
   "outputs": [
    {
     "name": "stdout",
     "output_type": "stream",
     "text": [
      "-------------------------------------------\n",
      "Name: Blackbeard\n",
      "Sex: M\n",
      "Age At Death: 40\n",
      "Height <feet.inches>: 6.4\n",
      "Used Skull & Crossbones flag: False\n"
     ]
    }
   ],
   "source": [
    "#Challenge 1 with dictionary\n",
    "\n",
    "print(\"-------------------------------------------\")\n",
    "print(\"Name: \" + pirates[\"Name\"][0])\n",
    "print(\"Sex: \" + pirates[\"Sex\"][0])\n",
    "print(\"Age At Death: \" +  str(pirates[\"AgeAtDeath\"][0]))\n",
    "print(\"Height <feet.inches>: \" +  str(pirates[\"Height\"][0]))\n",
    "print(\"Used Skull & Crossbones flag: \" +  str(pirates[\"Skull&Crossbones\"][0]))"
   ]
  },
  {
   "cell_type": "code",
   "execution_count": 10,
   "id": "b01dc1e2",
   "metadata": {},
   "outputs": [
    {
     "name": "stdout",
     "output_type": "stream",
     "text": [
      "-------------------------------------------\n",
      "Used Skull & Crossbones flag: False\n",
      "-------------------------------------------\n",
      "Used Skull & Crossbones flag: False\n",
      "-------------------------------------------\n",
      "Used Skull & Crossbones flag: False\n",
      "-------------------------------------------\n",
      "Used Skull & Crossbones flag: False\n",
      "-------------------------------------------\n",
      "Used Skull & Crossbones flag: True\n",
      "-------------------------------------------\n",
      "Used Skull & Crossbones flag: False\n",
      "-------------------------------------------\n",
      "Used Skull & Crossbones flag: False\n",
      "-------------------------------------------\n",
      "Used Skull & Crossbones flag: True\n",
      "-------------------------------------------\n",
      "Used Skull & Crossbones flag: True\n",
      "-------------------------------------------\n",
      "Used Skull & Crossbones flag: False\n"
     ]
    }
   ],
   "source": [
    "#challenge 2 with dictionary\n",
    "\n",
    "for i in range(numOfPirates):\n",
    "    targetIndex = (i - 9) * -1\n",
    "    print(\"-------------------------------------------\")\n",
    "    print(\"Used Skull & Crossbones flag: \" +  str(pirates[\"Skull&Crossbones\"][targetIndex]))"
   ]
  },
  {
   "cell_type": "code",
   "execution_count": 27,
   "id": "138ce91d",
   "metadata": {},
   "outputs": [
    {
     "name": "stdout",
     "output_type": "stream",
     "text": [
      "-------------------------------------------\n",
      "Name: Blackbeard\n",
      "Age At Death: 40\n",
      "Used Skull & Crossbones flag: False\n",
      "-------------------------------------------\n",
      "Name: Anne Bonny\n",
      "Age At Death: 24\n",
      "Used Skull & Crossbones flag: True\n",
      "-------------------------------------------\n",
      "Name: Calico Jack\n",
      "Age At Death: 37\n",
      "Used Skull & Crossbones flag: True\n",
      "-------------------------------------------\n",
      "Name: Cheung Po Tsai\n",
      "Age At Death: 39\n",
      "Used Skull & Crossbones flag: False\n",
      "-------------------------------------------\n",
      "Name: Grace O'Malley\n",
      "Age At Death: 73\n",
      "Used Skull & Crossbones flag: False\n",
      "-------------------------------------------\n",
      "Name: Mary Read\n",
      "Age At Death: 36\n",
      "Used Skull & Crossbones flag: True\n",
      "-------------------------------------------\n",
      "Name: Sayyida al Hurra\n",
      "Age At Death: 75\n",
      "Used Skull & Crossbones flag: False\n",
      "-------------------------------------------\n",
      "Name: Ching Shih\n",
      "Age At Death: 69\n",
      "Used Skull & Crossbones flag: False\n",
      "-------------------------------------------\n",
      "Name: Sir Francis Drake\n",
      "Age At Death: 56\n",
      "Used Skull & Crossbones flag: False\n",
      "-------------------------------------------\n",
      "Name: Jean Lafitte\n",
      "Age At Death: 46\n",
      "Used Skull & Crossbones flag: False\n"
     ]
    }
   ],
   "source": [
    "#challenge 3 with dictionary\n",
    "\n",
    "for i in range(numOfPirates):\n",
    "    print(\"-------------------------------------------\")\n",
    "    print(\"Name: \" + pirates[\"Name\"][i])\n",
    "    print(\"Age At Death: \" +  str(pirates[\"AgeAtDeath\"][i]))\n",
    "    print(\"Used Skull & Crossbones flag: \" +  str(pirates[\"Skull&Crossbones\"][i]))"
   ]
  },
  {
   "cell_type": "code",
   "execution_count": 28,
   "id": "2ea7c76c",
   "metadata": {},
   "outputs": [
    {
     "name": "stdout",
     "output_type": "stream",
     "text": [
      "-------------------------------------------\n",
      "Blackbeard\n",
      "M\n",
      "40\n",
      "6.4\n",
      "False\n",
      "-------------------------------------------\n",
      "Anne Bonny\n",
      "F\n",
      "24\n",
      "5.6\n",
      "True\n",
      "-------------------------------------------\n",
      "Calico Jack\n",
      "M\n",
      "37\n",
      "5.6\n",
      "True\n",
      "-------------------------------------------\n",
      "Cheung Po Tsai\n",
      "M\n",
      "39\n",
      "5.3\n",
      "False\n",
      "-------------------------------------------\n",
      "Grace O'Malley\n",
      "F\n",
      "73\n",
      "5.0\n",
      "False\n",
      "-------------------------------------------\n",
      "Mary Read\n",
      "F\n",
      "36\n",
      "5.1\n",
      "True\n",
      "-------------------------------------------\n",
      "Sayyida al Hurra\n",
      "F\n",
      "75\n",
      "NOT RECORDED\n",
      "False\n",
      "-------------------------------------------\n",
      "Ching Shih\n",
      "F\n",
      "69\n",
      "5.3\n",
      "False\n",
      "-------------------------------------------\n",
      "Sir Francis Drake\n",
      "M\n",
      "56\n",
      "5.5\n",
      "False\n",
      "-------------------------------------------\n",
      "Jean Lafitte\n",
      "M\n",
      "46\n",
      "6.2\n",
      "False\n"
     ]
    }
   ],
   "source": [
    "#print all\n",
    "\n",
    "for i in range(numOfPirates):\n",
    "    print(\"-------------------------------------------\")\n",
    "    for key in pirates:\n",
    "        print(pirates[key][i])"
   ]
  },
  {
   "cell_type": "code",
   "execution_count": 38,
   "id": "4de3109c",
   "metadata": {},
   "outputs": [
    {
     "name": "stdout",
     "output_type": "stream",
     "text": [
      "3 pirates flew the skull & crossbones flag\n"
     ]
    }
   ],
   "source": [
    "#challenge 4\n",
    "\n",
    "trueCount = 0\n",
    "for i in range(numOfPirates):\n",
    "    if pirates[\"Skull&Crossbones\"][i] == True:\n",
    "        trueCount += 1\n",
    "        \n",
    "print(str(trueCount) + \" pirates flew the skull & crossbones flag\")"
   ]
  },
  {
   "cell_type": "code",
   "execution_count": 47,
   "id": "c5cd07ea",
   "metadata": {},
   "outputs": [
    {
     "name": "stdout",
     "output_type": "stream",
     "text": [
      "Average Male Age: 43.6 Average Female Age: 55.4\n"
     ]
    }
   ],
   "source": [
    "#challenge 5 \n",
    "\n",
    "maleAgeSum = 0\n",
    "maleCount = 0\n",
    "femaleAgeSum = 0\n",
    "femaleCount = 0\n",
    "\n",
    "for i in range(10):\n",
    "    if pirates[\"Sex\"][i] == \"M\":\n",
    "        maleAgeSum += pirates[\"AgeAtDeath\"][i]\n",
    "        maleCount += 1\n",
    "    elif pirates[\"Sex\"][i] == \"F\":\n",
    "        femaleAgeSum += pirates[\"AgeAtDeath\"][i]\n",
    "        femaleCount += 1\n",
    "        \n",
    "maleAgeAvg = maleAgeSum/maleCount\n",
    "femaleAgeAvg = femaleAgeSum/femaleCount\n",
    "\n",
    "print(\"Average Male Age: \" + str(maleAgeAvg) + \" Average Female Age: \" + str(femaleAgeAvg))"
   ]
  },
  {
   "cell_type": "code",
   "execution_count": 57,
   "id": "774d15c2",
   "metadata": {},
   "outputs": [
    {
     "name": "stdout",
     "output_type": "stream",
     "text": [
      "20.0% of the pirates were 6ft tall or taller\n"
     ]
    }
   ],
   "source": [
    "#challenge 6\n",
    "\n",
    "piratesOver6Ft = 0\n",
    "\n",
    "for i in range(10):\n",
    "    if pirates[\"Height\"][i] != \"NOT RECORDED\":\n",
    "        if pirates[\"Height\"][i] >= 6.0:\n",
    "            piratesOver6Ft += 1\n",
    "\n",
    "percentageOver6Ft = (piratesOver6Ft/10)*100\n",
    "\n",
    "print(str(percentageOver6Ft) + \"% of the pirates were 6ft tall or taller\")"
   ]
  },
  {
   "cell_type": "code",
   "execution_count": null,
   "id": "da6bcfa2",
   "metadata": {},
   "outputs": [],
   "source": []
  }
 ],
 "metadata": {
  "kernelspec": {
   "display_name": "Python 3 (ipykernel)",
   "language": "python",
   "name": "python3"
  },
  "language_info": {
   "codemirror_mode": {
    "name": "ipython",
    "version": 3
   },
   "file_extension": ".py",
   "mimetype": "text/x-python",
   "name": "python",
   "nbconvert_exporter": "python",
   "pygments_lexer": "ipython3",
   "version": "3.9.13"
  }
 },
 "nbformat": 4,
 "nbformat_minor": 5
}
