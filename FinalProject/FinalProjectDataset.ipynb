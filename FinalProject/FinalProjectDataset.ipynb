{
 "cells": [
  {
   "cell_type": "code",
   "execution_count": 40,
   "id": "ff370996",
   "metadata": {},
   "outputs": [],
   "source": [
    "import pandas as pd\n",
    "import seaborn as sb\n",
    "import matplotlib.pyplot as plt\n",
    "\n",
    "#helps with conditional indexing\n",
    "import numpy as np"
   ]
  },
  {
   "cell_type": "code",
   "execution_count": 3,
   "id": "dea3670b",
   "metadata": {},
   "outputs": [],
   "source": [
    "datasetInitial = pd.read_csv('FastFoodNutritionFacts.csv')"
   ]
  },
  {
   "cell_type": "code",
   "execution_count": 4,
   "id": "639982c4",
   "metadata": {
    "scrolled": false
   },
   "outputs": [
    {
     "name": "stdout",
     "output_type": "stream",
     "text": [
      "<class 'pandas.core.frame.DataFrame'>\n",
      "RangeIndex: 515 entries, 0 to 514\n",
      "Data columns (total 17 columns):\n",
      " #   Column       Non-Null Count  Dtype  \n",
      "---  ------       --------------  -----  \n",
      " 0   restaurant   515 non-null    object \n",
      " 1   item         515 non-null    object \n",
      " 2   calories     515 non-null    int64  \n",
      " 3   cal_fat      515 non-null    int64  \n",
      " 4   total_fat    515 non-null    int64  \n",
      " 5   sat_fat      515 non-null    float64\n",
      " 6   trans_fat    515 non-null    float64\n",
      " 7   cholesterol  515 non-null    int64  \n",
      " 8   sodium       515 non-null    int64  \n",
      " 9   total_carb   515 non-null    int64  \n",
      " 10  fiber        503 non-null    float64\n",
      " 11  sugar        515 non-null    int64  \n",
      " 12  protein      514 non-null    float64\n",
      " 13  vit_a        301 non-null    float64\n",
      " 14  vit_c        305 non-null    float64\n",
      " 15  calcium      305 non-null    float64\n",
      " 16  salad        515 non-null    object \n",
      "dtypes: float64(7), int64(7), object(3)\n",
      "memory usage: 68.5+ KB\n"
     ]
    }
   ],
   "source": [
    "datasetInitial.info(0)"
   ]
  },
  {
   "cell_type": "code",
   "execution_count": 5,
   "id": "d13dbbae",
   "metadata": {},
   "outputs": [],
   "source": [
    "#looked up calorie count for burgerking farmhouse king to fill the only null in \"protein\" column\n",
    "datasetInitial.loc[205, \"protein\"] = 63"
   ]
  },
  {
   "cell_type": "code",
   "execution_count": 6,
   "id": "d63040d3",
   "metadata": {},
   "outputs": [
    {
     "name": "stdout",
     "output_type": "stream",
     "text": [
      "<class 'pandas.core.frame.DataFrame'>\n",
      "RangeIndex: 515 entries, 0 to 514\n",
      "Data columns (total 12 columns):\n",
      " #   Column       Non-Null Count  Dtype  \n",
      "---  ------       --------------  -----  \n",
      " 0   restaurant   515 non-null    object \n",
      " 1   item         515 non-null    object \n",
      " 2   calories     515 non-null    int64  \n",
      " 3   cal_fat      515 non-null    int64  \n",
      " 4   total_fat    515 non-null    int64  \n",
      " 5   sat_fat      515 non-null    float64\n",
      " 6   trans_fat    515 non-null    float64\n",
      " 7   cholesterol  515 non-null    int64  \n",
      " 8   sodium       515 non-null    int64  \n",
      " 9   total_carb   515 non-null    int64  \n",
      " 10  sugar        515 non-null    int64  \n",
      " 11  protein      515 non-null    float64\n",
      "dtypes: float64(3), int64(7), object(2)\n",
      "memory usage: 48.4+ KB\n"
     ]
    }
   ],
   "source": [
    "#dropping the fiber, vitamin-a and -c, calcium, and salad columns because they have either a lot of nulls or are not needed\n",
    "\n",
    "colToDrop = [\"fiber\",\"vit_a\",\"vit_c\",\"calcium\",\"salad\"]\n",
    "\n",
    "#creates new, updated dataset. this one will have no nulls\n",
    "df = datasetInitial.drop(columns = colToDrop)\n",
    "\n",
    "df.info()"
   ]
  },
  {
   "cell_type": "code",
   "execution_count": 7,
   "id": "dd147555",
   "metadata": {},
   "outputs": [
    {
     "data": {
      "text/plain": [
       "640.3508771929825"
      ]
     },
     "execution_count": 7,
     "metadata": {},
     "output_type": "execute_result"
    }
   ],
   "source": [
    "mcdAvgCalories = np.mean(df.loc[df[\"restaurant\"] == \"Mcdonalds\" , \"calories\"])\n",
    "mcdAvgCalories"
   ]
  },
  {
   "cell_type": "code",
   "execution_count": 8,
   "id": "9825112d",
   "metadata": {},
   "outputs": [
    {
     "data": {
      "text/plain": [
       "640.3508771929825"
      ]
     },
     "execution_count": 8,
     "metadata": {},
     "output_type": "execute_result"
    }
   ],
   "source": [
    "avg = df[df.loc[:, \"restaurant\"] == \"Mcdonalds\"][\"calories\"].mean()\n",
    "\n",
    "avg"
   ]
  },
  {
   "cell_type": "code",
   "execution_count": 14,
   "id": "748248ae",
   "metadata": {},
   "outputs": [
    {
     "data": {
      "text/plain": [
       "Taco Bell      115\n",
       "Subway          96\n",
       "Burger King     70\n",
       "Mcdonalds       57\n",
       "Arbys           55\n",
       "Sonic           53\n",
       "Dairy Queen     42\n",
       "Chick Fil-A     27\n",
       "Name: restaurant, dtype: int64"
      ]
     },
     "execution_count": 14,
     "metadata": {},
     "output_type": "execute_result"
    }
   ],
   "source": [
    "restaurants = df[\"restaurant\"].value_counts()\n",
    "restaurants"
   ]
  },
  {
   "cell_type": "code",
   "execution_count": 53,
   "id": "5a376dc8",
   "metadata": {},
   "outputs": [],
   "source": [
    "difRes = [\"Taco Bell\",\"Subway\",\"Burger King\",\"Mcdonalds\",\"Arbys\",\"Sonic\",\"Dairy Queen\",\"Chick Fil-A\"]\n",
    "\n",
    "mins = {\n",
    "    \"restaurant\": difRes,\n",
    "    \"calories\":[],\n",
    "    \"cal_fat\":[],\n",
    "    \"total_fat\":[],\n",
    "    \"sat_fat\":[],\n",
    "    \"trans_fat\":[],\n",
    "    \"cholesterol\":[],\n",
    "    \"sodium\":[],\n",
    "    \"total_carb\":[],\n",
    "    \"sugar\":[],\n",
    "    \"protein\":[]\n",
    "}\n",
    "\n",
    "maxs = {\n",
    "    \"restaurant\": difRes,\n",
    "    \"calories\":[],\n",
    "    \"cal_fat\":[],\n",
    "    \"total_fat\":[],\n",
    "    \"sat_fat\":[],\n",
    "    \"trans_fat\":[],\n",
    "    \"cholesterol\":[],\n",
    "    \"sodium\":[],\n",
    "    \"total_carb\":[],\n",
    "    \"sugar\":[],\n",
    "    \"protein\":[]\n",
    "}\n",
    "\n",
    "meds = {\n",
    "    \"restaurant\": difRes,\n",
    "    \"calories\":[],\n",
    "    \"cal_fat\":[],\n",
    "    \"total_fat\":[],\n",
    "    \"sat_fat\":[],\n",
    "    \"trans_fat\":[],\n",
    "    \"cholesterol\":[],\n",
    "    \"sodium\":[],\n",
    "    \"total_carb\":[],\n",
    "    \"sugar\":[],\n",
    "    \"protein\":[]\n",
    "}\n",
    "\n",
    "for i in range(len(difRes)):\n",
    "     for col in avgs:\n",
    "        if col != \"restaurant\":\n",
    "            mins[col].append(round(df[df.loc[:, \"restaurant\"] == difRes[i]][col].min(), 3))\n",
    "            maxs[col].append(round(df[df.loc[:, \"restaurant\"] == difRes[i]][col].max(), 3))\n",
    "            meds[col].append(round(df[df.loc[:, \"restaurant\"] == difRes[i]][col].median(), 3))\n",
    "            "
   ]
  },
  {
   "cell_type": "code",
   "execution_count": 61,
   "id": "9567b9e3",
   "metadata": {},
   "outputs": [
    {
     "data": {
      "image/png": "[encoded data removed]",
      "text/plain": [
       "<Figure size 1500x600 with 1 Axes>"
      ]
     },
     "metadata": {},
     "output_type": "display_data"
    }
   ],
   "source": [
    "plt.figure(figsize = (15,6))\n",
    "sb.boxplot(data=df, y=\"restaurant\", x=\"calories\")\n",
    "\n",
    "plt.show()"
   ]
  },
  {
   "cell_type": "code",
   "execution_count": 66,
   "id": "5405ed6d",
   "metadata": {},
   "outputs": [
    {
     "data": {
      "text/plain": [
       "39    20 piece Buttermilk Crispy Chicken Tenders\n",
       "Name: item, dtype: object"
      ]
     },
     "execution_count": 66,
     "metadata": {},
     "output_type": "execute_result"
    }
   ],
   "source": [
    "\n",
    "df[df.loc[:,\"calories\"] == df[df.loc[:,\"restaurant\"] == \"Mcdonalds\"][\"calories\"].max()][\"item\"]"
   ]
  },
  {
   "cell_type": "code",
   "execution_count": null,
   "id": "5fc44a7b",
   "metadata": {},
   "outputs": [],
   "source": []
  }
 ],
 "metadata": {
  "kernelspec": {
   "display_name": "Python 3 (ipykernel)",
   "language": "python",
   "name": "python3"
  },
  "language_info": {
   "codemirror_mode": {
    "name": "ipython",
    "version": 3
   },
   "file_extension": ".py",
   "mimetype": "text/x-python",
   "name": "python",
   "nbconvert_exporter": "python",
   "pygments_lexer": "ipython3",
   "version": "3.9.13"
  }
 },
 "nbformat": 4,
 "nbformat_minor": 5
}
